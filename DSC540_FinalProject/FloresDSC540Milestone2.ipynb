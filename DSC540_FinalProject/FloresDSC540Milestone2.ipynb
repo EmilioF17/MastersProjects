{
 "cells": [
  {
   "cell_type": "markdown",
   "id": "bc9b97ab-1fe2-4ff3-bc47-70842264f279",
   "metadata": {},
   "source": [
    "# DSC 540 - Milestone 2"
   ]
  },
  {
   "cell_type": "code",
   "execution_count": 3,
   "id": "8abd9c65-aaae-41f3-ad2d-a51122b7b6db",
   "metadata": {},
   "outputs": [],
   "source": [
    "# Import libraries\n",
    "import pandas as pd\n",
    "import numpy as np\n",
    "import locale"
   ]
  },
  {
   "cell_type": "code",
   "execution_count": 4,
   "id": "506e803d-e28c-464d-b458-1b92fe672154",
   "metadata": {},
   "outputs": [],
   "source": [
    "# Import data set (flat file)\n",
    "zillowdf = pd.read_csv('C:/Users/emili/OneDrive - Bellevue University/\\\n",
    "03 Fall 2024/DSC 540 Data Preparation/Final Project/\\\n",
    "HistoricalSingleHomeValues_Zillow2000to24.csv')"
   ]
  },
  {
   "cell_type": "markdown",
   "id": "2b2bbbb6-05da-4825-aa8f-b91ad16363d3",
   "metadata": {},
   "source": [
    "### Drop Unnecessary Columns"
   ]
  },
  {
   "cell_type": "code",
   "execution_count": 6,
   "id": "833bdf43-f66c-46b4-86d4-b2096be03bff",
   "metadata": {},
   "outputs": [
    {
     "name": "stdout",
     "output_type": "stream",
     "text": [
      "['city'] ['NY' 'CA' 'TX' 'IL' 'PA' 'AZ' 'NV' 'FL' 'NC' 'IN' 'OH' 'KY' 'CO' 'WA'\n",
      " 'OR' 'TN' 'DC' 'MA' 'MI' 'NM' 'MD' 'NE' 'GA' 'WI' 'OK' 'MO' 'VA' 'MN'\n",
      " 'HI' 'LA' 'KS' 'SC' 'NJ' 'ID' 'AL' 'AK' 'AR' 'IA' 'DE' 'UT' 'SD' 'RI'\n",
      " 'MS' 'CT' 'MT' 'ND' 'NH' 'WY' 'WV' 'ME' 'VT']\n"
     ]
    }
   ],
   "source": [
    "# Verify that you are not getting rid off important values\n",
    "uq1 = zillowdf['RegionType'].unique()\n",
    "uq2 = zillowdf['StateName'].unique()\n",
    "print(uq1,uq2)"
   ]
  },
  {
   "cell_type": "code",
   "execution_count": 7,
   "id": "4e564017-0219-42de-8b3f-81e73e3b491b",
   "metadata": {},
   "outputs": [],
   "source": [
    "# Drop columns 'RegionType' and 'StateName'\n",
    "# Columns are uselss/repetitive\n",
    "zillowdf = zillowdf.drop(['RegionType','StateName'], axis=1)"
   ]
  },
  {
   "cell_type": "markdown",
   "id": "aeef3d38-690d-4236-ba20-64cceb66e5c4",
   "metadata": {},
   "source": [
    "### Convert column headers into date format"
   ]
  },
  {
   "cell_type": "code",
   "execution_count": 9,
   "id": "91460da1-5208-4c17-8baa-d07e8a404570",
   "metadata": {},
   "outputs": [],
   "source": [
    "# Extract columns that don't need to be changed\n",
    "six_columns = zillowdf.columns[:6]\n",
    "\n",
    "# Convert remaining columns into date format\n",
    "remaining_columns = pd.to_datetime(zillowdf.columns[6:]).strftime('%Y-%m-%d')\n",
    "\n",
    "# Combine column header variables and insert to data frame\n",
    "zillowdf.columns = list(six_columns) + list(remaining_columns)"
   ]
  },
  {
   "cell_type": "markdown",
   "id": "57139fa4-6432-4b6a-a7d5-724dda35e564",
   "metadata": {},
   "source": [
    "### Transfrom all empty cells into NaN"
   ]
  },
  {
   "cell_type": "code",
   "execution_count": 11,
   "id": "e9afe8d7-e28e-43e1-bdb9-5df69a467b13",
   "metadata": {},
   "outputs": [],
   "source": [
    "# Replace empty cells with NA\n",
    "zillowdf = zillowdf.replace('', np.nan).fillna(np.nan)"
   ]
  },
  {
   "cell_type": "markdown",
   "id": "4f90289f-59f7-49d6-b9e7-c5fda2517613",
   "metadata": {},
   "source": [
    "### Transform all values into USD currency"
   ]
  },
  {
   "cell_type": "code",
   "execution_count": 13,
   "id": "39752c03-a5a2-4ef9-b587-2633a16f79bd",
   "metadata": {},
   "outputs": [],
   "source": [
    "# Configure locale to local currency\n",
    "locale.setlocale(locale.LC_ALL, 'en_US.UTF-8')\n",
    "\n",
    "# Define currency conversion function\n",
    "def format_usd(value):\n",
    "    try:\n",
    "        formatted_value = locale.currency(round(value), grouping=True)\n",
    "        return formatted_value.split('.')[0] # Show no cents\n",
    "    except (TypeError, ValueError):\n",
    "        return value  # Avoid handling non numeric values errors"
   ]
  },
  {
   "cell_type": "code",
   "execution_count": 14,
   "id": "1817cf5f-82ba-4bcf-8581-1ea53a48084c",
   "metadata": {},
   "outputs": [
    {
     "name": "stderr",
     "output_type": "stream",
     "text": [
      "C:\\Users\\emili\\AppData\\Local\\Temp\\ipykernel_23824\\1374218298.py:2: FutureWarning: DataFrame.applymap has been deprecated. Use DataFrame.map instead.\n",
      "  zillowdf.iloc[:, 6:] = zillowdf.iloc[:, 6:].applymap(format_usd)\n"
     ]
    }
   ],
   "source": [
    "# Apply functions to columns \n",
    "zillowdf.iloc[:, 6:] = zillowdf.iloc[:, 6:].applymap(format_usd)"
   ]
  },
  {
   "cell_type": "markdown",
   "id": "3919c7cd-91cc-429a-baeb-8618c0a67055",
   "metadata": {},
   "source": [
    "### Get rid off spaces in columns [:6]"
   ]
  },
  {
   "cell_type": "code",
   "execution_count": 16,
   "id": "3be18b12-f812-44ad-b089-e886893b0961",
   "metadata": {},
   "outputs": [
    {
     "name": "stderr",
     "output_type": "stream",
     "text": [
      "C:\\Users\\emili\\AppData\\Local\\Temp\\ipykernel_23824\\538530927.py:2: FutureWarning: DataFrame.applymap has been deprecated. Use DataFrame.map instead.\n",
      "  zillowdf = zillowdf.applymap(lambda x: x.strip() if isinstance(x, str) else x)\n"
     ]
    }
   ],
   "source": [
    "# Apply str().split() to all cells\n",
    "zillowdf = zillowdf.applymap(lambda x: x.strip() if isinstance(x, str) else x)"
   ]
  },
  {
   "cell_type": "markdown",
   "id": "0f18bf39-e22d-43e4-ac75-dda6d29d035b",
   "metadata": {},
   "source": [
    "### Print final result"
   ]
  },
  {
   "cell_type": "code",
   "execution_count": 35,
   "id": "48e25080-085b-4db8-a151-ced577e863d4",
   "metadata": {},
   "outputs": [],
   "source": [
    "zillowdf2 = zillowdf.head(1000)"
   ]
  },
  {
   "cell_type": "code",
   "execution_count": 39,
   "id": "282f237d-ea5a-4a5f-adbb-c51b1522416d",
   "metadata": {},
   "outputs": [],
   "source": [
    "zillowdf2.to_csv('FINAL_ZillowCSV.csv', index=False)"
   ]
  },
  {
   "cell_type": "markdown",
   "id": "63a0dc4a-71eb-48a5-bd77-3987416edccb",
   "metadata": {},
   "source": [
    "### Conclusion"
   ]
  },
  {
   "cell_type": "markdown",
   "id": "0ef4f83e-3f49-434a-a0e6-f768e0bf4c2e",
   "metadata": {},
   "source": [
    "All the changes applied to this data set only affected the formatting; thus, the original values were not manipulated in any form. No regulations or ethical concerns are noted by using this data set as the information is public, is not being used for profit, and the values have not been altered to misrepresent the original values. The biggest concern is that the data was recollected from Zillow and the algorithm used by the company to calculate single home values in several cities in the United States is not public. Hence, the accuracy and ethicality of the data depend sorely on Zillow's approach when gathering and publishing tis data set."
   ]
  }
 ],
 "metadata": {
  "kernelspec": {
   "display_name": "Python 3 (ipykernel)",
   "language": "python",
   "name": "python3"
  },
  "language_info": {
   "codemirror_mode": {
    "name": "ipython",
    "version": 3
   },
   "file_extension": ".py",
   "mimetype": "text/x-python",
   "name": "python",
   "nbconvert_exporter": "python",
   "pygments_lexer": "ipython3",
   "version": "3.11.7"
  }
 },
 "nbformat": 4,
 "nbformat_minor": 5
}
