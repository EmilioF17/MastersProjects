{
 "cells": [
  {
   "cell_type": "code",
   "execution_count": null,
   "id": "4bb3c4a9-d7ca-41ec-ba09-6af8c49cd65a",
   "metadata": {},
   "outputs": [],
   "source": [
    "# Don't forget to number your steps"
   ]
  }
 ],
 "metadata": {
  "kernelspec": {
   "display_name": "Python 3 (ipykernel)",
   "language": "python",
   "name": "python3"
  },
  "language_info": {
   "codemirror_mode": {
    "name": "ipython",
    "version": 3
   },
   "file_extension": ".py",
   "mimetype": "text/x-python",
   "name": "python",
   "nbconvert_exporter": "python",
   "pygments_lexer": "ipython3",
   "version": "3.11.7"
  }
 },
 "nbformat": 4,
 "nbformat_minor": 5
}
