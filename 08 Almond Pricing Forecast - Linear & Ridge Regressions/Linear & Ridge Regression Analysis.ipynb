{
 "cells": [
  {
   "cell_type": "markdown",
   "id": "9c2fb779-9f1b-4385-9dad-16143924e5cd",
   "metadata": {},
   "source": [
    "# Project 1 - Almond Pricing Analysis - DSC 680 - Emilio Flores"
   ]
  },
  {
   "cell_type": "markdown",
   "id": "fe33e81c-9789-4fb3-9517-8e123aad8674",
   "metadata": {},
   "source": [
    "## Data and Libraries"
   ]
  },
  {
   "cell_type": "code",
   "execution_count": 3,
   "id": "fc7b37e5-e26f-490e-99a4-6de52832e930",
   "metadata": {},
   "outputs": [],
   "source": [
    "# Import libraries\n",
    "import pandas as pd\n",
    "import numpy as np\n",
    "import matplotlib.pyplot as plt\n",
    "import seaborn as sns\n",
    "from sklearn.model_selection import train_test_split\n",
    "from sklearn.linear_model import LinearRegression\n",
    "from sklearn.metrics import mean_absolute_error, mean_squared_error, r2_score\n",
    "from sklearn.preprocessing import StandardScaler\n",
    "from sklearn.linear_model import Ridge\n",
    "from statsmodels.stats.outliers_influence import variance_inflation_factor\n",
    "from sklearn.model_selection import GridSearchCV"
   ]
  },
  {
   "cell_type": "code",
   "execution_count": 4,
   "id": "7e58d358-7ed4-435d-8a81-a93b040012df",
   "metadata": {},
   "outputs": [],
   "source": [
    "# Import historical almond pricing and production data\n",
    "almond_df = pd.read_excel('AlmondData.xlsx')\n",
    "\n",
    "# Import historical US population data\n",
    "uspopulation_df = pd.read_excel('USPopulation.xlsx')\n",
    "\n",
    "# Import historical USD Index data\n",
    "usindex_df = pd.read_excel('USDollarIndex.xlsx')"
   ]
  },
  {
   "cell_type": "markdown",
   "id": "b0082e5c-3afe-4b09-afc0-6e27eafe02d7",
   "metadata": {},
   "source": [
    "## Data Preparation"
   ]
  },
  {
   "cell_type": "code",
   "execution_count": 6,
   "id": "cc353eed-2920-429d-b5cb-bbae7fe0e5ba",
   "metadata": {},
   "outputs": [],
   "source": [
    "# Merge US population data into almond data frame\n",
    "almond_df['USPopulation_Millions'] = uspopulation_df['July 1 (million people)1']"
   ]
  },
  {
   "cell_type": "code",
   "execution_count": 7,
   "id": "58c149e2-5ff1-429c-b3de-693de542ebc2",
   "metadata": {},
   "outputs": [],
   "source": [
    "# Filter US Index data from 1981 to 2024\n",
    "usindex_1981to2024 = usindex_df.loc[usindex_df['Year (last business day)'] >= 1981, :]\n",
    "\n",
    "# Reset index\n",
    "usindex_1981to2024 = usindex_1981to2024.reset_index()"
   ]
  },
  {
   "cell_type": "code",
   "execution_count": 8,
   "id": "ca38c764-8c0f-4135-b3fe-55a233a47e71",
   "metadata": {},
   "outputs": [],
   "source": [
    "# Merge USDIndex data into almond data frame\n",
    "almond_df['USDIndex'] = usindex_1981to2024['DXY close']"
   ]
  },
  {
   "cell_type": "code",
   "execution_count": 9,
   "id": "8189a433-0bbd-4b6c-81aa-c77747e1e200",
   "metadata": {},
   "outputs": [],
   "source": [
    "# Save marketing years\n",
    "marketing_year = almond_df['Marketing_Year']"
   ]
  },
  {
   "cell_type": "code",
   "execution_count": 10,
   "id": "547719f1-98ae-43a2-9c14-a9017c575930",
   "metadata": {},
   "outputs": [],
   "source": [
    "# Drop unnecessary columns\n",
    "uncolumns = ['Marketing_Year','Yield_Lbs_Per_Acre',\n",
    "             'Value_of_Production_Usd_Mill','Utilized_Production_Lbs_Mill',\n",
    "             'Current_Reserve_Lbs_Mill','Percapita_Availability_Lbs']\n",
    "\n",
    "# Drop columns\n",
    "almond_df.drop(columns=uncolumns, inplace=True)"
   ]
  },
  {
   "cell_type": "code",
   "execution_count": 11,
   "id": "f9bfc4b6-212c-4c13-b6b2-ee0cfa1ea30d",
   "metadata": {},
   "outputs": [
    {
     "data": {
      "text/html": [
       "<div>\n",
       "<style scoped>\n",
       "    .dataframe tbody tr th:only-of-type {\n",
       "        vertical-align: middle;\n",
       "    }\n",
       "\n",
       "    .dataframe tbody tr th {\n",
       "        vertical-align: top;\n",
       "    }\n",
       "\n",
       "    .dataframe thead th {\n",
       "        text-align: right;\n",
       "    }\n",
       "</style>\n",
       "<table border=\"1\" class=\"dataframe\">\n",
       "  <thead>\n",
       "    <tr style=\"text-align: right;\">\n",
       "      <th></th>\n",
       "      <th>Bearing_Acres_Th</th>\n",
       "      <th>Total_Production_Lbs_Mill</th>\n",
       "      <th>Price_Cents_Per_Lb</th>\n",
       "      <th>Loss_Production_Lbs_Mill</th>\n",
       "      <th>Marketable_Production_Lbs_Mill</th>\n",
       "      <th>Imports_lbs_Mill</th>\n",
       "      <th>Beginning_Stocks_Lbs_Mill</th>\n",
       "      <th>Supply_Lbs_Mill</th>\n",
       "      <th>Ending_Stocks_Lbs_Mill</th>\n",
       "      <th>Exports_Lbs_Mill</th>\n",
       "      <th>Domestic_Availability_Lbs_Mill</th>\n",
       "      <th>USPopulation_Millions</th>\n",
       "      <th>USDIndex</th>\n",
       "    </tr>\n",
       "  </thead>\n",
       "  <tbody>\n",
       "    <tr>\n",
       "      <th>0</th>\n",
       "      <td>326.8</td>\n",
       "      <td>322</td>\n",
       "      <td>147.0</td>\n",
       "      <td>16.86</td>\n",
       "      <td>305.14</td>\n",
       "      <td>0.07</td>\n",
       "      <td>78950.0</td>\n",
       "      <td>384.160</td>\n",
       "      <td>101.657</td>\n",
       "      <td>186.93</td>\n",
       "      <td>95.573</td>\n",
       "      <td>227.7</td>\n",
       "      <td>104.69</td>\n",
       "    </tr>\n",
       "    <tr>\n",
       "      <th>1</th>\n",
       "      <td>326.2</td>\n",
       "      <td>408</td>\n",
       "      <td>78.0</td>\n",
       "      <td>24.87</td>\n",
       "      <td>383.13</td>\n",
       "      <td>0.04</td>\n",
       "      <td>101657.0</td>\n",
       "      <td>484.827</td>\n",
       "      <td>161.014</td>\n",
       "      <td>207.89</td>\n",
       "      <td>115.923</td>\n",
       "      <td>230.0</td>\n",
       "      <td>117.91</td>\n",
       "    </tr>\n",
       "    <tr>\n",
       "      <th>2</th>\n",
       "      <td>339.0</td>\n",
       "      <td>347</td>\n",
       "      <td>94.0</td>\n",
       "      <td>16.24</td>\n",
       "      <td>330.76</td>\n",
       "      <td>0.57</td>\n",
       "      <td>161014.0</td>\n",
       "      <td>492.344</td>\n",
       "      <td>176.949</td>\n",
       "      <td>177.98</td>\n",
       "      <td>137.415</td>\n",
       "      <td>232.2</td>\n",
       "      <td>131.79</td>\n",
       "    </tr>\n",
       "    <tr>\n",
       "      <th>3</th>\n",
       "      <td>360.0</td>\n",
       "      <td>242</td>\n",
       "      <td>104.0</td>\n",
       "      <td>20.21</td>\n",
       "      <td>221.79</td>\n",
       "      <td>0.18</td>\n",
       "      <td>176949.0</td>\n",
       "      <td>398.919</td>\n",
       "      <td>90.623</td>\n",
       "      <td>171.70</td>\n",
       "      <td>136.596</td>\n",
       "      <td>234.3</td>\n",
       "      <td>151.47</td>\n",
       "    </tr>\n",
       "    <tr>\n",
       "      <th>4</th>\n",
       "      <td>381.0</td>\n",
       "      <td>590</td>\n",
       "      <td>77.4</td>\n",
       "      <td>26.36</td>\n",
       "      <td>563.64</td>\n",
       "      <td>0.24</td>\n",
       "      <td>90623.0</td>\n",
       "      <td>654.503</td>\n",
       "      <td>227.010</td>\n",
       "      <td>266.78</td>\n",
       "      <td>160.713</td>\n",
       "      <td>236.3</td>\n",
       "      <td>123.55</td>\n",
       "    </tr>\n",
       "  </tbody>\n",
       "</table>\n",
       "</div>"
      ],
      "text/plain": [
       "   Bearing_Acres_Th  Total_Production_Lbs_Mill  Price_Cents_Per_Lb  \\\n",
       "0             326.8                        322               147.0   \n",
       "1             326.2                        408                78.0   \n",
       "2             339.0                        347                94.0   \n",
       "3             360.0                        242               104.0   \n",
       "4             381.0                        590                77.4   \n",
       "\n",
       "   Loss_Production_Lbs_Mill  Marketable_Production_Lbs_Mill  Imports_lbs_Mill  \\\n",
       "0                     16.86                          305.14              0.07   \n",
       "1                     24.87                          383.13              0.04   \n",
       "2                     16.24                          330.76              0.57   \n",
       "3                     20.21                          221.79              0.18   \n",
       "4                     26.36                          563.64              0.24   \n",
       "\n",
       "   Beginning_Stocks_Lbs_Mill  Supply_Lbs_Mill  Ending_Stocks_Lbs_Mill  \\\n",
       "0                    78950.0          384.160                 101.657   \n",
       "1                   101657.0          484.827                 161.014   \n",
       "2                   161014.0          492.344                 176.949   \n",
       "3                   176949.0          398.919                  90.623   \n",
       "4                    90623.0          654.503                 227.010   \n",
       "\n",
       "   Exports_Lbs_Mill  Domestic_Availability_Lbs_Mill  USPopulation_Millions  \\\n",
       "0            186.93                          95.573                  227.7   \n",
       "1            207.89                         115.923                  230.0   \n",
       "2            177.98                         137.415                  232.2   \n",
       "3            171.70                         136.596                  234.3   \n",
       "4            266.78                         160.713                  236.3   \n",
       "\n",
       "   USDIndex  \n",
       "0    104.69  \n",
       "1    117.91  \n",
       "2    131.79  \n",
       "3    151.47  \n",
       "4    123.55  "
      ]
     },
     "execution_count": 11,
     "metadata": {},
     "output_type": "execute_result"
    }
   ],
   "source": [
    "# Show final data frame\n",
    "almond_df.head()"
   ]
  },
  {
   "cell_type": "markdown",
   "id": "a0cdfefb-19b4-49f5-ae83-6b1f0cf1e169",
   "metadata": {},
   "source": [
    "## Linear Regression Analysis"
   ]
  },
  {
   "cell_type": "code",
   "execution_count": 13,
   "id": "b07d4dea-f090-455b-bfaf-3fc6bec27f0c",
   "metadata": {},
   "outputs": [],
   "source": [
    "# Create X feature matrix\n",
    "X = almond_df.drop(columns='Price_Cents_Per_Lb')\n",
    "\n",
    "# Select target variable\n",
    "y = almond_df['Price_Cents_Per_Lb']"
   ]
  },
  {
   "cell_type": "code",
   "execution_count": 14,
   "id": "0a8db40f-6d3b-44f3-845a-8044efd2882b",
   "metadata": {},
   "outputs": [],
   "source": [
    "# Split data into training and testing sets (80%/20%)\n",
    "X_train, X_test, y_train, y_test = train_test_split(X, y, test_size=0.20, random_state=42)"
   ]
  },
  {
   "cell_type": "code",
   "execution_count": 15,
   "id": "13080d09-d4c9-418f-b4d6-aca56af7be0d",
   "metadata": {},
   "outputs": [
    {
     "data": {
      "text/html": [
       "<style>#sk-container-id-1 {color: black;background-color: white;}#sk-container-id-1 pre{padding: 0;}#sk-container-id-1 div.sk-toggleable {background-color: white;}#sk-container-id-1 label.sk-toggleable__label {cursor: pointer;display: block;width: 100%;margin-bottom: 0;padding: 0.3em;box-sizing: border-box;text-align: center;}#sk-container-id-1 label.sk-toggleable__label-arrow:before {content: \"▸\";float: left;margin-right: 0.25em;color: #696969;}#sk-container-id-1 label.sk-toggleable__label-arrow:hover:before {color: black;}#sk-container-id-1 div.sk-estimator:hover label.sk-toggleable__label-arrow:before {color: black;}#sk-container-id-1 div.sk-toggleable__content {max-height: 0;max-width: 0;overflow: hidden;text-align: left;background-color: #f0f8ff;}#sk-container-id-1 div.sk-toggleable__content pre {margin: 0.2em;color: black;border-radius: 0.25em;background-color: #f0f8ff;}#sk-container-id-1 input.sk-toggleable__control:checked~div.sk-toggleable__content {max-height: 200px;max-width: 100%;overflow: auto;}#sk-container-id-1 input.sk-toggleable__control:checked~label.sk-toggleable__label-arrow:before {content: \"▾\";}#sk-container-id-1 div.sk-estimator input.sk-toggleable__control:checked~label.sk-toggleable__label {background-color: #d4ebff;}#sk-container-id-1 div.sk-label input.sk-toggleable__control:checked~label.sk-toggleable__label {background-color: #d4ebff;}#sk-container-id-1 input.sk-hidden--visually {border: 0;clip: rect(1px 1px 1px 1px);clip: rect(1px, 1px, 1px, 1px);height: 1px;margin: -1px;overflow: hidden;padding: 0;position: absolute;width: 1px;}#sk-container-id-1 div.sk-estimator {font-family: monospace;background-color: #f0f8ff;border: 1px dotted black;border-radius: 0.25em;box-sizing: border-box;margin-bottom: 0.5em;}#sk-container-id-1 div.sk-estimator:hover {background-color: #d4ebff;}#sk-container-id-1 div.sk-parallel-item::after {content: \"\";width: 100%;border-bottom: 1px solid gray;flex-grow: 1;}#sk-container-id-1 div.sk-label:hover label.sk-toggleable__label {background-color: #d4ebff;}#sk-container-id-1 div.sk-serial::before {content: \"\";position: absolute;border-left: 1px solid gray;box-sizing: border-box;top: 0;bottom: 0;left: 50%;z-index: 0;}#sk-container-id-1 div.sk-serial {display: flex;flex-direction: column;align-items: center;background-color: white;padding-right: 0.2em;padding-left: 0.2em;position: relative;}#sk-container-id-1 div.sk-item {position: relative;z-index: 1;}#sk-container-id-1 div.sk-parallel {display: flex;align-items: stretch;justify-content: center;background-color: white;position: relative;}#sk-container-id-1 div.sk-item::before, #sk-container-id-1 div.sk-parallel-item::before {content: \"\";position: absolute;border-left: 1px solid gray;box-sizing: border-box;top: 0;bottom: 0;left: 50%;z-index: -1;}#sk-container-id-1 div.sk-parallel-item {display: flex;flex-direction: column;z-index: 1;position: relative;background-color: white;}#sk-container-id-1 div.sk-parallel-item:first-child::after {align-self: flex-end;width: 50%;}#sk-container-id-1 div.sk-parallel-item:last-child::after {align-self: flex-start;width: 50%;}#sk-container-id-1 div.sk-parallel-item:only-child::after {width: 0;}#sk-container-id-1 div.sk-dashed-wrapped {border: 1px dashed gray;margin: 0 0.4em 0.5em 0.4em;box-sizing: border-box;padding-bottom: 0.4em;background-color: white;}#sk-container-id-1 div.sk-label label {font-family: monospace;font-weight: bold;display: inline-block;line-height: 1.2em;}#sk-container-id-1 div.sk-label-container {text-align: center;}#sk-container-id-1 div.sk-container {/* jupyter's `normalize.less` sets `[hidden] { display: none; }` but bootstrap.min.css set `[hidden] { display: none !important; }` so we also need the `!important` here to be able to override the default hidden behavior on the sphinx rendered scikit-learn.org. See: https://github.com/scikit-learn/scikit-learn/issues/21755 */display: inline-block !important;position: relative;}#sk-container-id-1 div.sk-text-repr-fallback {display: none;}</style><div id=\"sk-container-id-1\" class=\"sk-top-container\"><div class=\"sk-text-repr-fallback\"><pre>LinearRegression()</pre><b>In a Jupyter environment, please rerun this cell to show the HTML representation or trust the notebook. <br />On GitHub, the HTML representation is unable to render, please try loading this page with nbviewer.org.</b></div><div class=\"sk-container\" hidden><div class=\"sk-item\"><div class=\"sk-estimator sk-toggleable\"><input class=\"sk-toggleable__control sk-hidden--visually\" id=\"sk-estimator-id-1\" type=\"checkbox\" checked><label for=\"sk-estimator-id-1\" class=\"sk-toggleable__label sk-toggleable__label-arrow\">LinearRegression</label><div class=\"sk-toggleable__content\"><pre>LinearRegression()</pre></div></div></div></div></div>"
      ],
      "text/plain": [
       "LinearRegression()"
      ]
     },
     "execution_count": 15,
     "metadata": {},
     "output_type": "execute_result"
    }
   ],
   "source": [
    "# Create model\n",
    "model = LinearRegression()\n",
    "\n",
    "# Fit model\n",
    "model.fit(X_train, y_train)"
   ]
  },
  {
   "cell_type": "code",
   "execution_count": 16,
   "id": "25cb8940-6223-41d6-9baa-7aa5faa0e75b",
   "metadata": {},
   "outputs": [],
   "source": [
    "# Test model\n",
    "y_pred = model.predict(X_test)"
   ]
  },
  {
   "cell_type": "code",
   "execution_count": 17,
   "id": "b3f9acbc-4acd-4f53-8d1b-af49604fc8d4",
   "metadata": {},
   "outputs": [
    {
     "name": "stdout",
     "output_type": "stream",
     "text": [
      "Mean Absolute Error (MAE): 32.71\n",
      "Mean Squared Error (MSE): 2473.63\n",
      "Root Mean Squared Error (RMSE): 49.74\n",
      "R² Score: 0.7233\n"
     ]
    }
   ],
   "source": [
    "# Calculate error metrics\n",
    "mae = mean_absolute_error(y_test, y_pred)\n",
    "mse = mean_squared_error(y_test, y_pred)\n",
    "rmse = np.sqrt(mse)\n",
    "r2 = r2_score(y_test, y_pred)\n",
    "\n",
    "# Print evaluation metrics\n",
    "print(f\"Mean Absolute Error (MAE): {mae:.2f}\")\n",
    "print(f\"Mean Squared Error (MSE): {mse:.2f}\")\n",
    "print(f\"Root Mean Squared Error (RMSE): {rmse:.2f}\")\n",
    "print(f\"R² Score: {r2:.4f}\")"
   ]
  },
  {
   "cell_type": "code",
   "execution_count": 18,
   "id": "7e4ce34a-d49d-48e7-a3c1-2fc850f5dc41",
   "metadata": {},
   "outputs": [
    {
     "name": "stdout",
     "output_type": "stream",
     "text": [
      "                           Feature  Coefficient\n",
      "4                 Imports_lbs_Mill     3.967334\n",
      "6                  Supply_Lbs_Mill     2.122925\n",
      "8                 Exports_Lbs_Mill     0.846494\n",
      "7           Ending_Stocks_Lbs_Mill     0.774407\n",
      "10           USPopulation_Millions     0.728366\n",
      "2         Loss_Production_Lbs_Mill     0.675250\n",
      "9   Domestic_Availability_Lbs_Mill     0.502024\n",
      "0                 Bearing_Acres_Th     0.279754\n",
      "5        Beginning_Stocks_Lbs_Mill    -0.003078\n",
      "11                        USDIndex    -1.023544\n",
      "1        Total_Production_Lbs_Mill    -1.169156\n",
      "3   Marketable_Production_Lbs_Mill    -1.844406\n"
     ]
    }
   ],
   "source": [
    "# Get the feature importance (coefficients)\n",
    "coefficients = pd.DataFrame({'Feature': X.columns, 'Coefficient': model.coef_})\n",
    "\n",
    "# Print coefficients\n",
    "print(coefficients.sort_values(by='Coefficient', ascending=False))"
   ]
  },
  {
   "cell_type": "code",
   "execution_count": 19,
   "id": "282ca9cf-0097-414c-8f0e-468e8b82ed9f",
   "metadata": {},
   "outputs": [
    {
     "data": {
      "image/png": "[encoded data removed]",
      "text/plain": [
       "<Figure size 640x480 with 1 Axes>"
      ]
     },
     "metadata": {},
     "output_type": "display_data"
    }
   ],
   "source": [
    "# Plot scatter plot\n",
    "sns.scatterplot(x=y_test, y=y_pred)\n",
    "\n",
    "# Show ideal line\n",
    "plt.axline([0, 0], [1, 1], color=\"red\", linestyle=\"--\")\n",
    "\n",
    "# Plot labels\n",
    "plt.xlabel(\"Actual Prices (Cents per Lb)\")\n",
    "plt.ylabel(\"Predicted Prices (Cents per Lb)\")\n",
    "plt.title(\"Actual vs. Predicted Prices\")\n",
    "\n",
    "# Show chart\n",
    "plt.show()"
   ]
  },
  {
   "cell_type": "markdown",
   "id": "04de3500-0beb-4366-aae1-9c27eea29e4b",
   "metadata": {},
   "source": [
    "## Ridge Regression Analysis"
   ]
  },
  {
   "cell_type": "code",
   "execution_count": 21,
   "id": "23e7ad41-e8d7-4f7c-a4d7-e7a5181be161",
   "metadata": {},
   "outputs": [
    {
     "name": "stdout",
     "output_type": "stream",
     "text": [
      "                           Feature          VIF\n",
      "0                 Bearing_Acres_Th   353.929946\n",
      "1        Total_Production_Lbs_Mill          inf\n",
      "2         Loss_Production_Lbs_Mill          inf\n",
      "3   Marketable_Production_Lbs_Mill          inf\n",
      "4                 Imports_lbs_Mill    23.959837\n",
      "5        Beginning_Stocks_Lbs_Mill  6262.688105\n",
      "6                  Supply_Lbs_Mill          inf\n",
      "7           Ending_Stocks_Lbs_Mill          inf\n",
      "8                 Exports_Lbs_Mill          inf\n",
      "9   Domestic_Availability_Lbs_Mill          inf\n",
      "10           USPopulation_Millions    78.593529\n",
      "11                        USDIndex    50.163597\n"
     ]
    },
    {
     "name": "stderr",
     "output_type": "stream",
     "text": [
      "C:\\Users\\emili\\anaconda3\\Lib\\site-packages\\statsmodels\\stats\\outliers_influence.py:198: RuntimeWarning: divide by zero encountered in scalar divide\n",
      "  vif = 1. / (1. - r_squared_i)\n"
     ]
    }
   ],
   "source": [
    "# Create empty data frame \n",
    "vif_data = pd.DataFrame()\n",
    "\n",
    "# Add feature matrix as columns\n",
    "vif_data[\"Feature\"] = X.columns\n",
    "\n",
    "# Compute the Variance Inflation Factor (VIF) for each feature\n",
    "vif_data[\"VIF\"] = [variance_inflation_factor(X.values, i) for i in range(len(X.columns))]\n",
    "\n",
    "# Show VIF\n",
    "print(vif_data)"
   ]
  },
  {
   "cell_type": "code",
   "execution_count": 22,
   "id": "9876c8b1-ef75-4b28-98d3-e4531f17cc17",
   "metadata": {},
   "outputs": [],
   "source": [
    "# Create standard scaler\n",
    "scaler = StandardScaler()\n",
    "\n",
    "# Fit scaler\n",
    "X_train_scaled = scaler.fit_transform(X_train)\n",
    "\n",
    "# Transfrom test matrix\n",
    "X_test_scaled = scaler.transform(X_test)"
   ]
  },
  {
   "cell_type": "code",
   "execution_count": 23,
   "id": "a167de27-9058-4b73-b252-19a15fa5435f",
   "metadata": {},
   "outputs": [],
   "source": [
    "# Initialize Ridge regression\n",
    "ridge_model = Ridge(alpha=1.0)\n",
    "\n",
    "# Fit training data into model\n",
    "ridge_model.fit(X_train_scaled, y_train)\n",
    "\n",
    "# Make predictions\n",
    "y_pred = ridge_model.predict(X_test_scaled)"
   ]
  },
  {
   "cell_type": "code",
   "execution_count": 24,
   "id": "69f56346-e770-4a41-b941-f1e00aa2e70b",
   "metadata": {},
   "outputs": [
    {
     "name": "stdout",
     "output_type": "stream",
     "text": [
      "Mean Absolute Error (MAE): 31.10\n",
      "Mean Squared Error (MSE): 2595.78\n",
      "Root Mean Squared Error (RMSE): 50.95\n",
      "R² Score: 0.7097\n"
     ]
    }
   ],
   "source": [
    "# Calculate error metrics\n",
    "mae = mean_absolute_error(y_test, y_pred)\n",
    "mse = mean_squared_error(y_test, y_pred)\n",
    "rmse = np.sqrt(mse)\n",
    "r2 = r2_score(y_test, y_pred)\n",
    "\n",
    "# Print evaluation metrics\n",
    "print(f\"Mean Absolute Error (MAE): {mae:.2f}\")\n",
    "print(f\"Mean Squared Error (MSE): {mse:.2f}\")\n",
    "print(f\"Root Mean Squared Error (RMSE): {rmse:.2f}\")\n",
    "print(f\"R² Score: {r2:.4f}\")"
   ]
  },
  {
   "cell_type": "code",
   "execution_count": 25,
   "id": "8ba2ec87-331a-47ed-b46e-926778f759b6",
   "metadata": {},
   "outputs": [
    {
     "name": "stdout",
     "output_type": "stream",
     "text": [
      "                           Feature  Coefficient\n",
      "4                 Imports_lbs_Mill    63.297927\n",
      "0                 Bearing_Acres_Th    27.864404\n",
      "10           USPopulation_Millions    20.523656\n",
      "8                 Exports_Lbs_Mill    -0.277304\n",
      "2         Loss_Production_Lbs_Mill    -3.913615\n",
      "5        Beginning_Stocks_Lbs_Mill    -6.271804\n",
      "6                  Supply_Lbs_Mill    -8.053045\n",
      "1        Total_Production_Lbs_Mill    -9.090824\n",
      "3   Marketable_Production_Lbs_Mill    -9.170580\n",
      "7           Ending_Stocks_Lbs_Mill   -11.888543\n",
      "11                        USDIndex   -14.186478\n",
      "9   Domestic_Availability_Lbs_Mill   -22.994026\n"
     ]
    }
   ],
   "source": [
    "# Get the feature importance (coefficients)\n",
    "coefficients = pd.DataFrame({'Feature': X.columns, 'Coefficient': ridge_model.coef_})\n",
    "\n",
    "# Show coefficients\n",
    "print(coefficients.sort_values(by='Coefficient', ascending=False))"
   ]
  },
  {
   "cell_type": "code",
   "execution_count": 26,
   "id": "36233741-1029-49f0-af0a-c4548320e734",
   "metadata": {},
   "outputs": [
    {
     "data": {
      "image/png": "[encoded data removed]",
      "text/plain": [
       "<Figure size 640x480 with 1 Axes>"
      ]
     },
     "metadata": {},
     "output_type": "display_data"
    }
   ],
   "source": [
    "# Plot scatter plot\n",
    "sns.scatterplot(x=y_test, y=y_pred)\n",
    "\n",
    "# Show ideal line\n",
    "plt.axline([0, 0], [1, 1], color=\"red\", linestyle=\"--\")\n",
    "\n",
    "# Plot labels\n",
    "plt.xlabel(\"Actual Prices (Cents per Lb)\")\n",
    "plt.ylabel(\"Predicted Prices (Cents per Lb)\")\n",
    "plt.title(\"Actual vs. Predicted Prices\")\n",
    "\n",
    "# Show chart\n",
    "plt.show()"
   ]
  },
  {
   "cell_type": "markdown",
   "id": "b766bbbf-49e7-42cb-b344-d01c1e59f3f4",
   "metadata": {},
   "source": [
    "## Ridge Model Optimization"
   ]
  },
  {
   "cell_type": "code",
   "execution_count": 28,
   "id": "8a5103a5-777e-4e2d-8279-fe3127fe365e",
   "metadata": {},
   "outputs": [],
   "source": [
    "# Define a range of alpha values\n",
    "alphas = {'alpha': np.logspace(-3, 3, 10)}"
   ]
  },
  {
   "cell_type": "code",
   "execution_count": 29,
   "id": "02c48bf0-42b5-4d4a-be4e-994b939b46fa",
   "metadata": {},
   "outputs": [
    {
     "data": {
      "text/html": [
       "<style>#sk-container-id-2 {color: black;background-color: white;}#sk-container-id-2 pre{padding: 0;}#sk-container-id-2 div.sk-toggleable {background-color: white;}#sk-container-id-2 label.sk-toggleable__label {cursor: pointer;display: block;width: 100%;margin-bottom: 0;padding: 0.3em;box-sizing: border-box;text-align: center;}#sk-container-id-2 label.sk-toggleable__label-arrow:before {content: \"▸\";float: left;margin-right: 0.25em;color: #696969;}#sk-container-id-2 label.sk-toggleable__label-arrow:hover:before {color: black;}#sk-container-id-2 div.sk-estimator:hover label.sk-toggleable__label-arrow:before {color: black;}#sk-container-id-2 div.sk-toggleable__content {max-height: 0;max-width: 0;overflow: hidden;text-align: left;background-color: #f0f8ff;}#sk-container-id-2 div.sk-toggleable__content pre {margin: 0.2em;color: black;border-radius: 0.25em;background-color: #f0f8ff;}#sk-container-id-2 input.sk-toggleable__control:checked~div.sk-toggleable__content {max-height: 200px;max-width: 100%;overflow: auto;}#sk-container-id-2 input.sk-toggleable__control:checked~label.sk-toggleable__label-arrow:before {content: \"▾\";}#sk-container-id-2 div.sk-estimator input.sk-toggleable__control:checked~label.sk-toggleable__label {background-color: #d4ebff;}#sk-container-id-2 div.sk-label input.sk-toggleable__control:checked~label.sk-toggleable__label {background-color: #d4ebff;}#sk-container-id-2 input.sk-hidden--visually {border: 0;clip: rect(1px 1px 1px 1px);clip: rect(1px, 1px, 1px, 1px);height: 1px;margin: -1px;overflow: hidden;padding: 0;position: absolute;width: 1px;}#sk-container-id-2 div.sk-estimator {font-family: monospace;background-color: #f0f8ff;border: 1px dotted black;border-radius: 0.25em;box-sizing: border-box;margin-bottom: 0.5em;}#sk-container-id-2 div.sk-estimator:hover {background-color: #d4ebff;}#sk-container-id-2 div.sk-parallel-item::after {content: \"\";width: 100%;border-bottom: 1px solid gray;flex-grow: 1;}#sk-container-id-2 div.sk-label:hover label.sk-toggleable__label {background-color: #d4ebff;}#sk-container-id-2 div.sk-serial::before {content: \"\";position: absolute;border-left: 1px solid gray;box-sizing: border-box;top: 0;bottom: 0;left: 50%;z-index: 0;}#sk-container-id-2 div.sk-serial {display: flex;flex-direction: column;align-items: center;background-color: white;padding-right: 0.2em;padding-left: 0.2em;position: relative;}#sk-container-id-2 div.sk-item {position: relative;z-index: 1;}#sk-container-id-2 div.sk-parallel {display: flex;align-items: stretch;justify-content: center;background-color: white;position: relative;}#sk-container-id-2 div.sk-item::before, #sk-container-id-2 div.sk-parallel-item::before {content: \"\";position: absolute;border-left: 1px solid gray;box-sizing: border-box;top: 0;bottom: 0;left: 50%;z-index: -1;}#sk-container-id-2 div.sk-parallel-item {display: flex;flex-direction: column;z-index: 1;position: relative;background-color: white;}#sk-container-id-2 div.sk-parallel-item:first-child::after {align-self: flex-end;width: 50%;}#sk-container-id-2 div.sk-parallel-item:last-child::after {align-self: flex-start;width: 50%;}#sk-container-id-2 div.sk-parallel-item:only-child::after {width: 0;}#sk-container-id-2 div.sk-dashed-wrapped {border: 1px dashed gray;margin: 0 0.4em 0.5em 0.4em;box-sizing: border-box;padding-bottom: 0.4em;background-color: white;}#sk-container-id-2 div.sk-label label {font-family: monospace;font-weight: bold;display: inline-block;line-height: 1.2em;}#sk-container-id-2 div.sk-label-container {text-align: center;}#sk-container-id-2 div.sk-container {/* jupyter's `normalize.less` sets `[hidden] { display: none; }` but bootstrap.min.css set `[hidden] { display: none !important; }` so we also need the `!important` here to be able to override the default hidden behavior on the sphinx rendered scikit-learn.org. See: https://github.com/scikit-learn/scikit-learn/issues/21755 */display: inline-block !important;position: relative;}#sk-container-id-2 div.sk-text-repr-fallback {display: none;}</style><div id=\"sk-container-id-2\" class=\"sk-top-container\"><div class=\"sk-text-repr-fallback\"><pre>GridSearchCV(cv=5, estimator=Ridge(),\n",
       "             param_grid={&#x27;alpha&#x27;: array([1.00000000e-03, 4.64158883e-03, 2.15443469e-02, 1.00000000e-01,\n",
       "       4.64158883e-01, 2.15443469e+00, 1.00000000e+01, 4.64158883e+01,\n",
       "       2.15443469e+02, 1.00000000e+03])},\n",
       "             scoring=&#x27;r2&#x27;)</pre><b>In a Jupyter environment, please rerun this cell to show the HTML representation or trust the notebook. <br />On GitHub, the HTML representation is unable to render, please try loading this page with nbviewer.org.</b></div><div class=\"sk-container\" hidden><div class=\"sk-item sk-dashed-wrapped\"><div class=\"sk-label-container\"><div class=\"sk-label sk-toggleable\"><input class=\"sk-toggleable__control sk-hidden--visually\" id=\"sk-estimator-id-2\" type=\"checkbox\" ><label for=\"sk-estimator-id-2\" class=\"sk-toggleable__label sk-toggleable__label-arrow\">GridSearchCV</label><div class=\"sk-toggleable__content\"><pre>GridSearchCV(cv=5, estimator=Ridge(),\n",
       "             param_grid={&#x27;alpha&#x27;: array([1.00000000e-03, 4.64158883e-03, 2.15443469e-02, 1.00000000e-01,\n",
       "       4.64158883e-01, 2.15443469e+00, 1.00000000e+01, 4.64158883e+01,\n",
       "       2.15443469e+02, 1.00000000e+03])},\n",
       "             scoring=&#x27;r2&#x27;)</pre></div></div></div><div class=\"sk-parallel\"><div class=\"sk-parallel-item\"><div class=\"sk-item\"><div class=\"sk-label-container\"><div class=\"sk-label sk-toggleable\"><input class=\"sk-toggleable__control sk-hidden--visually\" id=\"sk-estimator-id-3\" type=\"checkbox\" ><label for=\"sk-estimator-id-3\" class=\"sk-toggleable__label sk-toggleable__label-arrow\">estimator: Ridge</label><div class=\"sk-toggleable__content\"><pre>Ridge()</pre></div></div></div><div class=\"sk-serial\"><div class=\"sk-item\"><div class=\"sk-estimator sk-toggleable\"><input class=\"sk-toggleable__control sk-hidden--visually\" id=\"sk-estimator-id-4\" type=\"checkbox\" ><label for=\"sk-estimator-id-4\" class=\"sk-toggleable__label sk-toggleable__label-arrow\">Ridge</label><div class=\"sk-toggleable__content\"><pre>Ridge()</pre></div></div></div></div></div></div></div></div></div></div>"
      ],
      "text/plain": [
       "GridSearchCV(cv=5, estimator=Ridge(),\n",
       "             param_grid={'alpha': array([1.00000000e-03, 4.64158883e-03, 2.15443469e-02, 1.00000000e-01,\n",
       "       4.64158883e-01, 2.15443469e+00, 1.00000000e+01, 4.64158883e+01,\n",
       "       2.15443469e+02, 1.00000000e+03])},\n",
       "             scoring='r2')"
      ]
     },
     "execution_count": 29,
     "metadata": {},
     "output_type": "execute_result"
    }
   ],
   "source": [
    "# Create Grid Search model with Cross-Validation\n",
    "ridge_cv = GridSearchCV(Ridge(), alphas, cv=5, scoring='r2')\n",
    "\n",
    "# Fit Grid Search model\n",
    "ridge_cv.fit(X_train_scaled, y_train)"
   ]
  },
  {
   "cell_type": "code",
   "execution_count": 30,
   "id": "b41ccb4d-78cf-49bf-9684-fd0b71a5e057",
   "metadata": {},
   "outputs": [
    {
     "name": "stdout",
     "output_type": "stream",
     "text": [
      "Best Alpha: 2.154434690031882\n"
     ]
    }
   ],
   "source": [
    "# Get the best alpha\n",
    "best_alpha = ridge_cv.best_params_['alpha']\n",
    "\n",
    "# Print result\n",
    "print(f\"Best Alpha: {best_alpha}\")"
   ]
  },
  {
   "cell_type": "code",
   "execution_count": 31,
   "id": "da3199ba-5242-490f-adb9-f6761b006bef",
   "metadata": {},
   "outputs": [
    {
     "data": {
      "text/html": [
       "<style>#sk-container-id-3 {color: black;background-color: white;}#sk-container-id-3 pre{padding: 0;}#sk-container-id-3 div.sk-toggleable {background-color: white;}#sk-container-id-3 label.sk-toggleable__label {cursor: pointer;display: block;width: 100%;margin-bottom: 0;padding: 0.3em;box-sizing: border-box;text-align: center;}#sk-container-id-3 label.sk-toggleable__label-arrow:before {content: \"▸\";float: left;margin-right: 0.25em;color: #696969;}#sk-container-id-3 label.sk-toggleable__label-arrow:hover:before {color: black;}#sk-container-id-3 div.sk-estimator:hover label.sk-toggleable__label-arrow:before {color: black;}#sk-container-id-3 div.sk-toggleable__content {max-height: 0;max-width: 0;overflow: hidden;text-align: left;background-color: #f0f8ff;}#sk-container-id-3 div.sk-toggleable__content pre {margin: 0.2em;color: black;border-radius: 0.25em;background-color: #f0f8ff;}#sk-container-id-3 input.sk-toggleable__control:checked~div.sk-toggleable__content {max-height: 200px;max-width: 100%;overflow: auto;}#sk-container-id-3 input.sk-toggleable__control:checked~label.sk-toggleable__label-arrow:before {content: \"▾\";}#sk-container-id-3 div.sk-estimator input.sk-toggleable__control:checked~label.sk-toggleable__label {background-color: #d4ebff;}#sk-container-id-3 div.sk-label input.sk-toggleable__control:checked~label.sk-toggleable__label {background-color: #d4ebff;}#sk-container-id-3 input.sk-hidden--visually {border: 0;clip: rect(1px 1px 1px 1px);clip: rect(1px, 1px, 1px, 1px);height: 1px;margin: -1px;overflow: hidden;padding: 0;position: absolute;width: 1px;}#sk-container-id-3 div.sk-estimator {font-family: monospace;background-color: #f0f8ff;border: 1px dotted black;border-radius: 0.25em;box-sizing: border-box;margin-bottom: 0.5em;}#sk-container-id-3 div.sk-estimator:hover {background-color: #d4ebff;}#sk-container-id-3 div.sk-parallel-item::after {content: \"\";width: 100%;border-bottom: 1px solid gray;flex-grow: 1;}#sk-container-id-3 div.sk-label:hover label.sk-toggleable__label {background-color: #d4ebff;}#sk-container-id-3 div.sk-serial::before {content: \"\";position: absolute;border-left: 1px solid gray;box-sizing: border-box;top: 0;bottom: 0;left: 50%;z-index: 0;}#sk-container-id-3 div.sk-serial {display: flex;flex-direction: column;align-items: center;background-color: white;padding-right: 0.2em;padding-left: 0.2em;position: relative;}#sk-container-id-3 div.sk-item {position: relative;z-index: 1;}#sk-container-id-3 div.sk-parallel {display: flex;align-items: stretch;justify-content: center;background-color: white;position: relative;}#sk-container-id-3 div.sk-item::before, #sk-container-id-3 div.sk-parallel-item::before {content: \"\";position: absolute;border-left: 1px solid gray;box-sizing: border-box;top: 0;bottom: 0;left: 50%;z-index: -1;}#sk-container-id-3 div.sk-parallel-item {display: flex;flex-direction: column;z-index: 1;position: relative;background-color: white;}#sk-container-id-3 div.sk-parallel-item:first-child::after {align-self: flex-end;width: 50%;}#sk-container-id-3 div.sk-parallel-item:last-child::after {align-self: flex-start;width: 50%;}#sk-container-id-3 div.sk-parallel-item:only-child::after {width: 0;}#sk-container-id-3 div.sk-dashed-wrapped {border: 1px dashed gray;margin: 0 0.4em 0.5em 0.4em;box-sizing: border-box;padding-bottom: 0.4em;background-color: white;}#sk-container-id-3 div.sk-label label {font-family: monospace;font-weight: bold;display: inline-block;line-height: 1.2em;}#sk-container-id-3 div.sk-label-container {text-align: center;}#sk-container-id-3 div.sk-container {/* jupyter's `normalize.less` sets `[hidden] { display: none; }` but bootstrap.min.css set `[hidden] { display: none !important; }` so we also need the `!important` here to be able to override the default hidden behavior on the sphinx rendered scikit-learn.org. See: https://github.com/scikit-learn/scikit-learn/issues/21755 */display: inline-block !important;position: relative;}#sk-container-id-3 div.sk-text-repr-fallback {display: none;}</style><div id=\"sk-container-id-3\" class=\"sk-top-container\"><div class=\"sk-text-repr-fallback\"><pre>Ridge(alpha=2.154434690031882)</pre><b>In a Jupyter environment, please rerun this cell to show the HTML representation or trust the notebook. <br />On GitHub, the HTML representation is unable to render, please try loading this page with nbviewer.org.</b></div><div class=\"sk-container\" hidden><div class=\"sk-item\"><div class=\"sk-estimator sk-toggleable\"><input class=\"sk-toggleable__control sk-hidden--visually\" id=\"sk-estimator-id-5\" type=\"checkbox\" checked><label for=\"sk-estimator-id-5\" class=\"sk-toggleable__label sk-toggleable__label-arrow\">Ridge</label><div class=\"sk-toggleable__content\"><pre>Ridge(alpha=2.154434690031882)</pre></div></div></div></div></div>"
      ],
      "text/plain": [
       "Ridge(alpha=2.154434690031882)"
      ]
     },
     "execution_count": 31,
     "metadata": {},
     "output_type": "execute_result"
    }
   ],
   "source": [
    "# Set Ridge model with optimized alpha value\n",
    "ridge_model_optimal = Ridge(alpha=best_alpha)\n",
    "\n",
    "# Fit training data into Ridge model\n",
    "ridge_model_optimal.fit(X_train_scaled, y_train)"
   ]
  },
  {
   "cell_type": "code",
   "execution_count": 32,
   "id": "e929d1ac-afc2-40f3-961f-67785d3cf90c",
   "metadata": {},
   "outputs": [],
   "source": [
    "# Make predictions with optimized Ridge model\n",
    "y_pred_optimal = ridge_model_optimal.predict(X_test_scaled)"
   ]
  },
  {
   "cell_type": "code",
   "execution_count": 33,
   "id": "42f7fcec-3fb8-48ca-bd31-6b088c41fb95",
   "metadata": {},
   "outputs": [
    {
     "name": "stdout",
     "output_type": "stream",
     "text": [
      "Optimized Mean Absolute Error (MAE): 36.26\n",
      "Optimized Mean Squared Error (MSE): 3233.40\n",
      "Optimized Root Mean Squared Error (RMSE): 56.86\n",
      "Optimized R² Score: 0.6383\n"
     ]
    }
   ],
   "source": [
    "# Calculate error metrics\n",
    "mae = mean_absolute_error(y_test, y_pred_optimal)\n",
    "mse = mean_squared_error(y_test, y_pred_optimal)\n",
    "rmse = np.sqrt(mse)\n",
    "r2 = r2_score(y_test, y_pred_optimal)\n",
    "\n",
    "# Print evaluation metrics\n",
    "print(f\"Optimized Mean Absolute Error (MAE): {mae:.2f}\")\n",
    "print(f\"Optimized Mean Squared Error (MSE): {mse:.2f}\")\n",
    "print(f\"Optimized Root Mean Squared Error (RMSE): {rmse:.2f}\")\n",
    "print(f\"Optimized R² Score: {r2:.4f}\")"
   ]
  },
  {
   "cell_type": "code",
   "execution_count": 34,
   "id": "bc309848-aefb-4fd3-8800-1526e1feb4b0",
   "metadata": {},
   "outputs": [
    {
     "name": "stdout",
     "output_type": "stream",
     "text": [
      "                           Feature  Coefficient\n",
      "4                 Imports_lbs_Mill    54.560576\n",
      "10           USPopulation_Millions    16.154383\n",
      "0                 Bearing_Acres_Th    15.279725\n",
      "8                 Exports_Lbs_Mill    -0.141693\n",
      "2         Loss_Production_Lbs_Mill    -3.505363\n",
      "5        Beginning_Stocks_Lbs_Mill    -4.517457\n",
      "6                  Supply_Lbs_Mill    -4.977698\n",
      "1        Total_Production_Lbs_Mill    -5.722350\n",
      "3   Marketable_Production_Lbs_Mill    -5.751424\n",
      "9   Domestic_Availability_Lbs_Mill    -9.885883\n",
      "7           Ending_Stocks_Lbs_Mill   -12.762904\n",
      "11                        USDIndex   -13.444154\n"
     ]
    }
   ],
   "source": [
    "# Get the feature importance (coefficients)\n",
    "coefficients = pd.DataFrame({'Feature': X.columns, 'Coefficient': ridge_model_optimal.coef_})\n",
    "\n",
    "# Show coefficients\n",
    "print(coefficients.sort_values(by='Coefficient', ascending=False))"
   ]
  },
  {
   "cell_type": "code",
   "execution_count": 35,
   "id": "1369c899-9f10-40fe-a800-cb492029e63b",
   "metadata": {},
   "outputs": [
    {
     "data": {
      "image/png": "[encoded data removed]",
      "text/plain": [
       "<Figure size 640x480 with 1 Axes>"
      ]
     },
     "metadata": {},
     "output_type": "display_data"
    }
   ],
   "source": [
    "# Plot optimized Ridge regression model\n",
    "sns.scatterplot(x=y_test, y=y_pred_optimal)\n",
    "\n",
    "# Show ideal line\n",
    "plt.axline([0, 0], [1, 1], color=\"red\", linestyle=\"--\")\n",
    "\n",
    "# Plot labels\n",
    "plt.xlabel(\"Actual Prices (Cents per Lb)\")\n",
    "plt.ylabel(\"Predicted Prices (Cents per Lb)\")\n",
    "plt.title(\"Optimized Ridge Model - Actual vs. Predicted Prices\")\n",
    "\n",
    "# Show chart\n",
    "plt.show()"
   ]
  }
 ],
 "metadata": {
  "kernelspec": {
   "display_name": "Python 3 (ipykernel)",
   "language": "python",
   "name": "python3"
  },
  "language_info": {
   "codemirror_mode": {
    "name": "ipython",
    "version": 3
   },
   "file_extension": ".py",
   "mimetype": "text/x-python",
   "name": "python",
   "nbconvert_exporter": "python",
   "pygments_lexer": "ipython3",
   "version": "3.11.7"
  }
 },
 "nbformat": 4,
 "nbformat_minor": 5
}
