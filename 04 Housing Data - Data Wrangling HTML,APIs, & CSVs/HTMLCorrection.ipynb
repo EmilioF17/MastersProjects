{
 "cells": [
  {
   "cell_type": "code",
   "execution_count": 1,
   "id": "b73968d4-eec5-4280-9b49-cd7d15a133ce",
   "metadata": {},
   "outputs": [
    {
     "name": "stdout",
     "output_type": "stream",
     "text": [
      "          Date      Open      High       Low    Close* Adj Close**  \\\n",
      "0  Sep 1, 2024  5,623.89  5,767.37  5,402.62  5,762.48    5,762.48   \n",
      "1  Aug 1, 2024  5,537.84  5,651.62  5,119.26  5,648.40    5,648.40   \n",
      "2  Jul 1, 2024  5,471.08  5,669.67  5,390.95  5,522.30    5,522.30   \n",
      "3  Jun 1, 2024  5,297.15  5,523.64  5,234.32  5,460.48    5,460.48   \n",
      "4  May 1, 2024  5,029.03  5,341.88  5,011.05  5,277.51    5,277.51   \n",
      "\n",
      "           Volume  \n",
      "0  79,564,830,000  \n",
      "1  81,097,300,000  \n",
      "2  80,160,390,000  \n",
      "3  76,025,620,000  \n",
      "4  86,849,720,000  \n"
     ]
    }
   ],
   "source": [
    "from bs4 import BeautifulSoup\n",
    "import pandas as pd\n",
    "\n",
    "# Load the saved HTML file\n",
    "with open(\"S&P 500 (^GSPC) Stock Historical Prices & Data - Yahoo Finance.html\", \"r\", encoding=\"utf-8\") as file:\n",
    "    html_content = file.read()\n",
    "\n",
    "# Parse the HTML content with BeautifulSoup\n",
    "soup = BeautifulSoup(html_content, \"html.parser\")\n",
    "\n",
    "# Find the table by class name (adjust if necessary)\n",
    "table = soup.find(\"table\", {\"class\": \"table yf-j5d1ld\"})\n",
    "\n",
    "# Extract rows from the table\n",
    "rows = table.find(\"tbody\").find_all(\"tr\")\n",
    "\n",
    "# Initialize lists to store the data\n",
    "data = []\n",
    "for row in rows:\n",
    "    cols = row.find_all(\"td\")\n",
    "    if cols:  # Skip rows without data\n",
    "        data.append([col.text for col in cols])\n",
    "\n",
    "# Convert to a DataFrame\n",
    "columns = [\"Date\", \"Open\", \"High\", \"Low\", \"Close*\", \"Adj Close**\", \"Volume\"]\n",
    "df = pd.DataFrame(data, columns=columns)\n",
    "\n",
    "# Display the first few rows\n",
    "print(df.head())\n"
   ]
  },
  {
   "cell_type": "code",
   "execution_count": null,
   "id": "3db6f2a6-5534-4771-b6a6-9d80aaa45f51",
   "metadata": {},
   "outputs": [],
   "source": []
  }
 ],
 "metadata": {
  "kernelspec": {
   "display_name": "Python 3 (ipykernel)",
   "language": "python",
   "name": "python3"
  },
  "language_info": {
   "codemirror_mode": {
    "name": "ipython",
    "version": 3
   },
   "file_extension": ".py",
   "mimetype": "text/x-python",
   "name": "python",
   "nbconvert_exporter": "python",
   "pygments_lexer": "ipython3",
   "version": "3.11.7"
  }
 },
 "nbformat": 4,
 "nbformat_minor": 5
}
