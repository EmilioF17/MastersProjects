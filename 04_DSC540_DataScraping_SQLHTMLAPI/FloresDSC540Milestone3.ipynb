{
 "cells": [
  {
   "cell_type": "markdown",
   "id": "69f7a0bd-aca7-4048-a5d5-da331c0b813d",
   "metadata": {},
   "source": [
    "# DSC 540 - Milestone 3"
   ]
  },
  {
   "cell_type": "code",
   "execution_count": 4,
   "id": "b60ba6f0-7660-4ab9-b9a4-b9724d84752c",
   "metadata": {},
   "outputs": [],
   "source": [
    "import pandas as pd\n",
    "import numpy as np\n",
    "import yfinance as yf"
   ]
  },
  {
   "cell_type": "code",
   "execution_count": 5,
   "id": "1dc440fa-9302-4233-8808-b99ebb1c1bd7",
   "metadata": {},
   "outputs": [
    {
     "name": "stderr",
     "output_type": "stream",
     "text": [
      "[*********************100%***********************]  1 of 1 completed\n"
     ]
    }
   ],
   "source": [
    "# Import S&P 500 historical data from Yahoo\n",
    "# Define ticker symbol\n",
    "ticker_symbol = \"^GSPC\"\n",
    "\n",
    "# Download the data\n",
    "sp500_df = yf.download(ticker_symbol, start='2000-01-01', end='2024-09-01', interval='1mo')"
   ]
  },
  {
   "cell_type": "code",
   "execution_count": 6,
   "id": "46569480-7385-4e40-936a-a2394f83036b",
   "metadata": {},
   "outputs": [],
   "source": [
    "# Reset Date column so it becoems a column and not the index\n",
    "sp500_df = sp500_df.reset_index()"
   ]
  },
  {
   "cell_type": "code",
   "execution_count": 7,
   "id": "6f3c7219-8867-429c-b1a4-bcb277a2792a",
   "metadata": {},
   "outputs": [],
   "source": [
    "# Transform date column into datetime format\n",
    "sp500_df['Date'] = pd.to_datetime(sp500_df['Date'])"
   ]
  },
  {
   "cell_type": "code",
   "execution_count": 8,
   "id": "e3f276b7-444b-4ddd-a310-8e80fdda04d8",
   "metadata": {},
   "outputs": [],
   "source": [
    "# Transform values into integers\n",
    "sp500_df[['Open', 'High', 'Low', 'Close', \n",
    "          'Adj Close']] = sp500_df[['Open', 'High', 'Low', 'Close', \n",
    "                                              'Adj Close']].astype(int)"
   ]
  },
  {
   "cell_type": "code",
   "execution_count": 9,
   "id": "ea95fdc0-449b-42ec-a0f5-c66b4c242c3b",
   "metadata": {},
   "outputs": [],
   "source": [
    "# Transform all dates into the first day of the current month\n",
    "sp500_df['Date'] = (sp500_df['Date'].values.astype('datetime64[M]'))\n",
    "\n",
    "# Subtract one day from all dates so all dates equal the last day of the previous month.\n",
    "sp500_df['Date'] = sp500_df['Date'] - pd.DateOffset(days=1)"
   ]
  },
  {
   "cell_type": "code",
   "execution_count": 10,
   "id": "45038742-b98a-4c18-b803-e02b3a06860d",
   "metadata": {},
   "outputs": [],
   "source": [
    "# Drop all columns but Date and Open\n",
    "sp500_df = sp500_df.drop(['High', 'Low', 'Close', 'Adj Close', 'Volume'], axis=1)"
   ]
  },
  {
   "cell_type": "code",
   "execution_count": 11,
   "id": "795bbbcb-7d02-4048-be99-9f9ce24bab6b",
   "metadata": {},
   "outputs": [
    {
     "data": {
      "text/html": [
       "<div>\n",
       "<style scoped>\n",
       "    .dataframe tbody tr th:only-of-type {\n",
       "        vertical-align: middle;\n",
       "    }\n",
       "\n",
       "    .dataframe tbody tr th {\n",
       "        vertical-align: top;\n",
       "    }\n",
       "\n",
       "    .dataframe thead th {\n",
       "        text-align: right;\n",
       "    }\n",
       "</style>\n",
       "<table border=\"1\" class=\"dataframe\">\n",
       "  <thead>\n",
       "    <tr style=\"text-align: right;\">\n",
       "      <th></th>\n",
       "      <th>Date</th>\n",
       "      <th>Open</th>\n",
       "    </tr>\n",
       "  </thead>\n",
       "  <tbody>\n",
       "    <tr>\n",
       "      <th>0</th>\n",
       "      <td>1999-12-31</td>\n",
       "      <td>1469</td>\n",
       "    </tr>\n",
       "    <tr>\n",
       "      <th>1</th>\n",
       "      <td>2000-01-31</td>\n",
       "      <td>1394</td>\n",
       "    </tr>\n",
       "    <tr>\n",
       "      <th>2</th>\n",
       "      <td>2000-02-29</td>\n",
       "      <td>1366</td>\n",
       "    </tr>\n",
       "    <tr>\n",
       "      <th>3</th>\n",
       "      <td>2000-03-31</td>\n",
       "      <td>1498</td>\n",
       "    </tr>\n",
       "    <tr>\n",
       "      <th>4</th>\n",
       "      <td>2000-04-30</td>\n",
       "      <td>1452</td>\n",
       "    </tr>\n",
       "    <tr>\n",
       "      <th>...</th>\n",
       "      <td>...</td>\n",
       "      <td>...</td>\n",
       "    </tr>\n",
       "    <tr>\n",
       "      <th>291</th>\n",
       "      <td>2024-03-31</td>\n",
       "      <td>5257</td>\n",
       "    </tr>\n",
       "    <tr>\n",
       "      <th>292</th>\n",
       "      <td>2024-04-30</td>\n",
       "      <td>5029</td>\n",
       "    </tr>\n",
       "    <tr>\n",
       "      <th>293</th>\n",
       "      <td>2024-05-31</td>\n",
       "      <td>5297</td>\n",
       "    </tr>\n",
       "    <tr>\n",
       "      <th>294</th>\n",
       "      <td>2024-06-30</td>\n",
       "      <td>5471</td>\n",
       "    </tr>\n",
       "    <tr>\n",
       "      <th>295</th>\n",
       "      <td>2024-07-31</td>\n",
       "      <td>5537</td>\n",
       "    </tr>\n",
       "  </tbody>\n",
       "</table>\n",
       "<p>296 rows × 2 columns</p>\n",
       "</div>"
      ],
      "text/plain": [
       "          Date  Open\n",
       "0   1999-12-31  1469\n",
       "1   2000-01-31  1394\n",
       "2   2000-02-29  1366\n",
       "3   2000-03-31  1498\n",
       "4   2000-04-30  1452\n",
       "..         ...   ...\n",
       "291 2024-03-31  5257\n",
       "292 2024-04-30  5029\n",
       "293 2024-05-31  5297\n",
       "294 2024-06-30  5471\n",
       "295 2024-07-31  5537\n",
       "\n",
       "[296 rows x 2 columns]"
      ]
     },
     "execution_count": 11,
     "metadata": {},
     "output_type": "execute_result"
    }
   ],
   "source": [
    "# Print dataset\n",
    "sp500_df"
   ]
  },
  {
   "cell_type": "code",
   "execution_count": 24,
   "id": "2b87f0c9-4115-4ef5-bead-69e6d5d21488",
   "metadata": {},
   "outputs": [],
   "source": [
    "sp500_df.to_csv('FINAL_sp500HTML.csv',index=False)"
   ]
  },
  {
   "cell_type": "markdown",
   "id": "b5be3c5c-2434-4400-b902-e9daf60e938f",
   "metadata": {},
   "source": [
    "### Conclusion"
   ]
  },
  {
   "cell_type": "markdown",
   "id": "10f8ea81-d36d-4dbb-9821-a34703af0a5d",
   "metadata": {},
   "source": [
    "Most of the changes made to this data set were related to the format, to make the data set easier to read. The most significant change made to this data set was the change of dates in the 'Date' column. This was made so this data set matches the formatting and timing of the housing data set that is being used for this project. The data set was obtained legally and there are no ethical concerns regarding the use of this data as is being used for academic purposes. "
   ]
  }
 ],
 "metadata": {
  "kernelspec": {
   "display_name": "Python 3 (ipykernel)",
   "language": "python",
   "name": "python3"
  },
  "language_info": {
   "codemirror_mode": {
    "name": "ipython",
    "version": 3
   },
   "file_extension": ".py",
   "mimetype": "text/x-python",
   "name": "python",
   "nbconvert_exporter": "python",
   "pygments_lexer": "ipython3",
   "version": "3.11.7"
  }
 },
 "nbformat": 4,
 "nbformat_minor": 5
}
