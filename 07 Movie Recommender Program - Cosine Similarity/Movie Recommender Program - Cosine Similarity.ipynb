{
 "cells": [
  {
   "cell_type": "markdown",
   "id": "b0b4a5de-923a-45a3-8ca1-08f99fcef640",
   "metadata": {},
   "source": [
    "# Movie Recommender Program - Cosine Similarity"
   ]
  },
  {
   "cell_type": "markdown",
   "id": "e0974f50-7470-48ce-bfb8-d1cdb49edb55",
   "metadata": {},
   "source": [
    "## Import Libraries and Data"
   ]
  },
  {
   "cell_type": "code",
   "execution_count": 3,
   "id": "1f3d811d-a49c-4503-a6bf-76020fc89c54",
   "metadata": {},
   "outputs": [],
   "source": [
    "# Import libraries\n",
    "import pandas as pd\n",
    "from sklearn.metrics.pairwise import cosine_similarity"
   ]
  },
  {
   "cell_type": "code",
   "execution_count": 4,
   "id": "9d420bf9-b963-44d3-943d-bc9481aa2383",
   "metadata": {},
   "outputs": [],
   "source": [
    "# Import data set\n",
    "movies_df = pd.read_csv('movies.csv')"
   ]
  },
  {
   "cell_type": "markdown",
   "id": "04d26bf4-a960-40ce-a7dc-01b258585204",
   "metadata": {},
   "source": [
    "## Prepare Data Set"
   ]
  },
  {
   "cell_type": "code",
   "execution_count": 6,
   "id": "2a9dc72f-2592-4916-95e6-921466f89ee4",
   "metadata": {},
   "outputs": [],
   "source": [
    "# Remove Year from title column\n",
    "movies_df['Title'] = movies_df['title'].str[:-6]\n",
    "\n",
    "# Remove white spaces\n",
    "movies_df['Title'] = movies_df['Title'].str.strip()"
   ]
  },
  {
   "cell_type": "code",
   "execution_count": 7,
   "id": "ab36561f-43e6-47c1-8acc-747e0af57b80",
   "metadata": {},
   "outputs": [],
   "source": [
    "# Obtain year from title column and create new column\n",
    "movies_df['Year'] = movies_df['title'].str[-6:]\n",
    "\n",
    "# Drop parentheses\n",
    "movies_df['Year'] = movies_df['Year'].str.replace(r'[()]','', regex=True)"
   ]
  },
  {
   "cell_type": "code",
   "execution_count": 8,
   "id": "48125ece-74a8-490c-afac-b51dad90be1e",
   "metadata": {},
   "outputs": [],
   "source": [
    "# Drop original 'title' column\n",
    "movies_df.drop('title', axis=1, inplace=True)"
   ]
  },
  {
   "cell_type": "code",
   "execution_count": 9,
   "id": "fa6b7150-71cd-4188-a8fa-c49be9d1557b",
   "metadata": {},
   "outputs": [],
   "source": [
    "# Ensure 'genres' is formatted as a string\n",
    "movies_df['genres'] = movies_df['genres'].astype(str)\n",
    "\n",
    "# Obtain dummy variables from 'genres' column\n",
    "movies_df = movies_df.join(movies_df['genres'].str.get_dummies(sep='|'))"
   ]
  },
  {
   "cell_type": "code",
   "execution_count": 10,
   "id": "1249ad1d-4e5d-47ce-b65b-a0e7c9f01d6e",
   "metadata": {},
   "outputs": [],
   "source": [
    "# Drop 'genres'column\n",
    "movies_df.drop('genres', axis=1, inplace=True)"
   ]
  },
  {
   "cell_type": "markdown",
   "id": "e6648ce5-95c6-4464-84d7-9fafb896fdbc",
   "metadata": {},
   "source": [
    "## Create Recommender Program"
   ]
  },
  {
   "cell_type": "code",
   "execution_count": 12,
   "id": "6f66f63e-4f88-45e1-a2f2-88707a224ad4",
   "metadata": {},
   "outputs": [],
   "source": [
    "# Extract genre columns\n",
    "genre_columns = movies_df.columns[4:]\n",
    "\n",
    "# Create matrix\n",
    "genre_matrix = movies_df[genre_columns]"
   ]
  },
  {
   "cell_type": "code",
   "execution_count": 13,
   "id": "c5918dbe-75e4-4060-920b-8ba47dafffb6",
   "metadata": {},
   "outputs": [],
   "source": [
    "# Compute cosine similarity\n",
    "similarity_matrix = cosine_similarity(genre_matrix)"
   ]
  },
  {
   "cell_type": "code",
   "execution_count": 14,
   "id": "99c8ea89-7b8e-4ac9-b0fc-50ed3550291f",
   "metadata": {},
   "outputs": [],
   "source": [
    "# Create recommender function\n",
    "def recommend_movies(movie_title, movies_df, similarity_matrix):\n",
    "    # Find the index of the movie\n",
    "    movie_index = movies_df[movies_df['Title'].str.lower() == movie_title.lower()].index\n",
    "\n",
    "    # Add message if movie is not found\n",
    "    if len(movie_index) == 0:\n",
    "        return \"Movie not found. Please check the title and try again.\"\n",
    "\n",
    "    # Extract movie index (row number)\n",
    "    movie_index = movie_index[0]\n",
    "    \n",
    "    # Get similarity scores\n",
    "    similarity_scores = list(enumerate(similarity_matrix[movie_index]))\n",
    "    \n",
    "    # Sort movies by similarity score, exclude title that was typed by user\n",
    "    similar_movies = sorted(similarity_scores, key=lambda x: x[1], reverse=True)[1:11]\n",
    "    \n",
    "    # Retrieve movie titles\n",
    "    recommended_titles = [movies_df.iloc[i[0]]['Title'] for i in similar_movies]\n",
    "    \n",
    "    return recommended_titles"
   ]
  },
  {
   "cell_type": "markdown",
   "id": "5e9ee7af-8900-426b-af5a-b7c13ad30472",
   "metadata": {},
   "source": [
    "## Test Recommender Program"
   ]
  },
  {
   "cell_type": "code",
   "execution_count": 16,
   "id": "a30b4178-e694-4571-85ae-bf0684481700",
   "metadata": {},
   "outputs": [
    {
     "name": "stdout",
     "output_type": "stream",
     "text": [
      "\n",
      "Are you looking for something to watch? Type a movie you\n",
      "like and we'll suggest 10 similar movies\n",
      "\n"
     ]
    },
    {
     "name": "stdin",
     "output_type": "stream",
     "text": [
      "Name of favorite movie:  Avatar\n"
     ]
    },
    {
     "name": "stdout",
     "output_type": "stream",
     "text": [
      "Top 10 similar movies to Avatar are:\n",
      "1. Spider-Man 2\n",
      "2. Superman Returns\n",
      "3. Star Trek\n",
      "4. Transformers: Revenge of the Fallen\n",
      "5. Avatar\n",
      "6. Tron: Legacy\n",
      "7. Avengers, The\n",
      "8. John Carter\n",
      "9. Amazing Spider-Man, The\n",
      "10. Oblivion\n"
     ]
    }
   ],
   "source": [
    "# Ask for user input\n",
    "print(\"\"\"\n",
    "Are you looking for something to watch? Type a movie you\n",
    "like and we'll suggest 10 similar movies\n",
    "\"\"\")\n",
    "user_input = input(\"Name of favorite movie: \")\n",
    "\n",
    "# Run recommendation function\n",
    "movies = recommend_movies(user_input, movies_df, similarity_matrix)\n",
    "\n",
    "# Handle wrong input and print top 10 movies if successful\n",
    "if isinstance(movies, str):\n",
    "    print(movies)\n",
    "else:\n",
    "    print(f\"Top {len(movies)} similar movies to {user_input} are:\")\n",
    "    for id, movie in enumerate(movies, start=1):\n",
    "        print(f\"{id}. {movie}\")"
   ]
  }
 ],
 "metadata": {
  "kernelspec": {
   "display_name": "Python 3 (ipykernel)",
   "language": "python",
   "name": "python3"
  },
  "language_info": {
   "codemirror_mode": {
    "name": "ipython",
    "version": 3
   },
   "file_extension": ".py",
   "mimetype": "text/x-python",
   "name": "python",
   "nbconvert_exporter": "python",
   "pygments_lexer": "ipython3",
   "version": "3.11.7"
  }
 },
 "nbformat": 4,
 "nbformat_minor": 5
}
