{
 "cells": [
  {
   "cell_type": "markdown",
   "id": "305885a4-18eb-4194-b176-de75f26a6f7f",
   "metadata": {},
   "source": [
    "# DSC 550 - Week 9 - Exercise"
   ]
  },
  {
   "cell_type": "code",
   "execution_count": 2,
   "id": "81b8f7f4-7bf5-418c-bb69-a8a5093dc920",
   "metadata": {},
   "outputs": [],
   "source": [
    "# Import libraries\n",
    "import pandas as pd\n",
    "import numpy as np\n",
    "from sklearn.neighbors import KNeighborsClassifier\n",
    "from sklearn.preprocessing import StandardScaler\n",
    "from sklearn.pipeline import Pipeline\n",
    "from sklearn.model_selection import GridSearchCV\n",
    "from sklearn.dummy import DummyRegressor\n",
    "from sklearn.model_selection import train_test_split\n",
    "from sklearn.metrics import accuracy_score\n",
    "from sklearn.linear_model import LogisticRegression\n",
    "from sklearn.ensemble import RandomForestClassifier"
   ]
  },
  {
   "cell_type": "code",
   "execution_count": 3,
   "id": "4a101361-ae43-4e92-9d14-7080f038940d",
   "metadata": {},
   "outputs": [],
   "source": [
    "# 1.- Import data set\n",
    "loan_df = pd.read_csv(\"Loan_Train.csv\")"
   ]
  },
  {
   "cell_type": "code",
   "execution_count": 4,
   "id": "d2e9b17e-a3b5-41ea-9669-aa27de82d870",
   "metadata": {},
   "outputs": [],
   "source": [
    "# 2.- Prepare data set\n",
    "# Drop Loan_ID column\n",
    "loan_df.drop('Loan_ID', axis=1, inplace=True)\n",
    "\n",
    "# Drop any rows with missing data\n",
    "loan_df.dropna(inplace=True)\n",
    "\n",
    "# Convert categorical features into dummy variables\n",
    "loan_df = pd.get_dummies(loan_df, columns=['Gender', 'Married',\n",
    "                                           'Education','Self_Employed',\n",
    "                                           'Property_Area', 'Dependents'])"
   ]
  },
  {
   "cell_type": "code",
   "execution_count": 5,
   "id": "f74a7c95-322d-48c1-aa39-56e4400d34bb",
   "metadata": {},
   "outputs": [],
   "source": [
    "# 3.- Split Data into training and test sets\n",
    "# Set Loan_Status as target\n",
    "y = loan_df['Loan_Status']\n",
    "\n",
    "# Set remaining data set as training set\n",
    "X = loan_df.drop('Loan_Status', axis=1)\n",
    "\n",
    "# Divide training and test data\n",
    "X_train, X_test, y_train, y_test = train_test_split(X, y, test_size=0.2, random_state=42)"
   ]
  },
  {
   "cell_type": "code",
   "execution_count": 6,
   "id": "b0a2d5f9-ec31-41fd-b7b9-1acde99d2e8f",
   "metadata": {},
   "outputs": [],
   "source": [
    "# 4.- Create a pipeline with a min-max scaler and a KNN classifier \n",
    "# Create Standardizer\n",
    "standardizer = StandardScaler()\n",
    "\n",
    "# Create a KNN classifier\n",
    "knn = KNeighborsClassifier(n_neighbors=5, n_jobs=-1)\n",
    "\n",
    "# Create a pipeline \n",
    "pipe = Pipeline([('standardizer',standardizer), ('knn',knn)])"
   ]
  },
  {
   "cell_type": "code",
   "execution_count": 7,
   "id": "2d9a9a4b-3f2d-4e78-8fd4-fd108da0ff4b",
   "metadata": {},
   "outputs": [
    {
     "name": "stdout",
     "output_type": "stream",
     "text": [
      "Model accuracy on the test knn set: 0.7708\n"
     ]
    }
   ],
   "source": [
    "# 5.- Fit a default KNN classifier to the data with the pipeline. \n",
    "# Fit the pipeline\n",
    "pipe.fit(X_train, y_train)\n",
    "\n",
    "# Make predictions\n",
    "y_pred = pipe.predict(X_test)\n",
    "\n",
    "# 3. Report the model accuracy\n",
    "accuracy = accuracy_score(y_test, y_pred)\n",
    "print(f\"Model accuracy on the test knn set: {accuracy:.4f}\")"
   ]
  },
  {
   "cell_type": "code",
   "execution_count": 8,
   "id": "a8761892-2523-4ad3-8cef-06fb5c8d57fa",
   "metadata": {},
   "outputs": [],
   "source": [
    "# 6.- Create a search space for your KNN classifier where n_neighbors” ranges from 1 to 10. \n",
    "search_space = [{\"knn__n_neighbors\":[1,2,3,4,5,6,7,8,9,10]}]"
   ]
  },
  {
   "cell_type": "code",
   "execution_count": 9,
   "id": "3634e9b4-bf2b-4494-8103-31d68a4032f6",
   "metadata": {},
   "outputs": [],
   "source": [
    "# 7.- Fit a grid search with your pipeline, search space, and 5-fold cross-validation.\n",
    "classifier = GridSearchCV(pipe, search_space, cv=5, verbose=0)"
   ]
  },
  {
   "cell_type": "code",
   "execution_count": 10,
   "id": "eef94f6f-929b-4ba4-9b54-e8d44bb038ef",
   "metadata": {},
   "outputs": [
    {
     "name": "stdout",
     "output_type": "stream",
     "text": [
      "Best number of neighbors: 10\n",
      "KNN classifier set accuracy: 0.7708\n"
     ]
    }
   ],
   "source": [
    "# 8.- Find the accuracy of the grid search best model on the test set. \n",
    "# Fit Classifier\n",
    "classifier.fit(X_train, y_train)\n",
    "\n",
    "# Get the best parameter and best score\n",
    "best_n_neighbors = classifier.best_params_['knn__n_neighbors']\n",
    "print(f\"Best number of neighbors: {best_n_neighbors}\")\n",
    "\n",
    "# Evaluate the model on the test set\n",
    "test_accuracy = classifier.score(X_test, y_test)\n",
    "print(f\"KNN classifier set accuracy: {test_accuracy:.4f}\")"
   ]
  },
  {
   "cell_type": "code",
   "execution_count": 11,
   "id": "5d522c77-8b6e-421e-80a9-aa897e58420d",
   "metadata": {},
   "outputs": [
    {
     "name": "stdout",
     "output_type": "stream",
     "text": [
      "Pipeline(steps=[('standardizer', StandardScaler()),\n",
      "                ('classifier',\n",
      "                 LogisticRegression(C=2.7825594022071245, max_iter=500,\n",
      "                                    penalty='l1', solver='liblinear'))])\n"
     ]
    }
   ],
   "source": [
    "# 9.- repeat step 6 and 7\n",
    "# Update pipeline\n",
    "pipe = Pipeline([('standardizer', StandardScaler()),\n",
    "                 ('classifier', KNeighborsClassifier())])\n",
    "\n",
    "# Create dictionary with candidate learning\n",
    "search_space = [\n",
    "    {\"classifier\": [LogisticRegression(max_iter=500, solver='liblinear')],\n",
    "     \"classifier__penalty\": ['l1','l2'],\n",
    "     \"classifier__C\": np.logspace(0,4,10)},\n",
    "    \n",
    "    {\"classifier\": [RandomForestClassifier()],\n",
    "     \"classifier__n_estimators\": [10,100,1000],\n",
    "     \"classifier__max_features\": [1,2,3]},\n",
    "\n",
    "    {\"classifier\": [KNeighborsClassifier()],\n",
    "     \"classifier__n_neighbors\":[1,2,3,4,5,6,7,8,9,10]}\n",
    "]\n",
    "\n",
    "# Create grid search\n",
    "gridsearch = GridSearchCV(pipe, search_space, cv=5, verbose=0)\n",
    "\n",
    "# Fit grid search\n",
    "best_model = gridsearch.fit(X_train, y_train)\n",
    "\n",
    "# Print best model\n",
    "print(best_model.best_estimator_)"
   ]
  },
  {
   "cell_type": "code",
   "execution_count": 12,
   "id": "724d3a2e-35f7-43aa-ba9e-66ff71ce9b30",
   "metadata": {},
   "outputs": [
    {
     "name": "stdout",
     "output_type": "stream",
     "text": [
      "The accuracy of the best model (Logistic Regression) is: 0.8229\n"
     ]
    }
   ],
   "source": [
    "# 10.- Find accuracy of best model\n",
    "y_pred = best_model.predict(X_test)\n",
    "\n",
    "# Calculate and print accuracy score\n",
    "accuracy = accuracy_score(y_test, y_pred)\n",
    "\n",
    "print(f\"The accuracy of the best model (Logistic Regression) is: {accuracy:.4f}\")"
   ]
  },
  {
   "cell_type": "markdown",
   "id": "d6b9b62f-d18f-44bb-895c-3a05de38f246",
   "metadata": {},
   "source": [
    "11.- Summarize your results.\n",
    "This exercise illustrates the process that can be followed to test several models and parameters. This process helps to identify which model and set of parameters, out of several tested at the same time, might have the highest accuracy score. The use of GridsearchCV allows to streamline the search of multiple classifiers, models, and parameters. This exercise concludes that a Logisitc Regression with a c value of 2.78, max_iter of 500, penalty of l1, and solver equal to liblinear is the most accurate model/set of parameters with a score of 82.3%."
   ]
  }
 ],
 "metadata": {
  "kernelspec": {
   "display_name": "Python 3 (ipykernel)",
   "language": "python",
   "name": "python3"
  },
  "language_info": {
   "codemirror_mode": {
    "name": "ipython",
    "version": 3
   },
   "file_extension": ".py",
   "mimetype": "text/x-python",
   "name": "python",
   "nbconvert_exporter": "python",
   "pygments_lexer": "ipython3",
   "version": "3.11.7"
  }
 },
 "nbformat": 4,
 "nbformat_minor": 5
}
