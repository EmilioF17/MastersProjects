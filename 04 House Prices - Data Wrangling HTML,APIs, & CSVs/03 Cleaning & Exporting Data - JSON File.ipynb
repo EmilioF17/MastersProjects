{
 "cells": [
  {
   "cell_type": "markdown",
   "id": "9f9bd5ab-8999-409a-afb6-9d01df92fb31",
   "metadata": {},
   "source": [
    "# DSC 540 - Week 9 & 10 - Milestone 4"
   ]
  },
  {
   "cell_type": "code",
   "execution_count": 1,
   "id": "de2cc5f0-6922-4a7a-9e6e-56c75c79aaf3",
   "metadata": {},
   "outputs": [],
   "source": [
    "# Import libraries\n",
    "import pandas as pd\n",
    "import numpy as np\n",
    "import urllib.request, urllib.parse, urllib.error\n",
    "import requests\n",
    "import json"
   ]
  },
  {
   "cell_type": "code",
   "execution_count": 3,
   "id": "56e68d0e-786a-4f68-a73e-594db0faff71",
   "metadata": {},
   "outputs": [],
   "source": [
    "# Import name of cities from housing data set\n",
    "zillow_df = pd.read_csv('HistoricalSingleHomeValues_Zillow2000to24.csv')"
   ]
  },
  {
   "cell_type": "code",
   "execution_count": 4,
   "id": "c9a8f3c6-cd03-4a85-829c-bbaf809f25eb",
   "metadata": {},
   "outputs": [],
   "source": [
    "# Drop unnecessary columns\n",
    "zillow_df = zillow_df.drop(['RegionType','StateName'], axis=1)"
   ]
  },
  {
   "cell_type": "code",
   "execution_count": 5,
   "id": "1c1580be-db96-4bf2-80a4-c28fa61b07d2",
   "metadata": {},
   "outputs": [],
   "source": [
    "# Round all values\n",
    "zillow_df.iloc[:,6:] = zillow_df.iloc[:,6:].round()"
   ]
  },
  {
   "cell_type": "code",
   "execution_count": 6,
   "id": "4e6763f8-4b54-4aed-afb3-57eb5807c597",
   "metadata": {},
   "outputs": [],
   "source": [
    "# Extract first 100 rows due to API monthly limitations\n",
    "zillow_df2 = zillow_df.head(100)"
   ]
  },
  {
   "cell_type": "code",
   "execution_count": 7,
   "id": "b557189a-8664-45e7-aac4-173ffb81cf75",
   "metadata": {},
   "outputs": [],
   "source": [
    "# Extract unique cities and add them to list\n",
    "cities_list = zillow_df2['RegionName'].unique()"
   ]
  },
  {
   "cell_type": "code",
   "execution_count": 3,
   "id": "162d7d83-7526-4b6f-8019-b5aa74c63ab6",
   "metadata": {},
   "outputs": [],
   "source": [
    "zillow_df = pd.read_csv('FINAL_ZillowCSV.csv')"
   ]
  },
  {
   "cell_type": "code",
   "execution_count": 5,
   "id": "80c394d3-c610-4c96-943d-406064871bbe",
   "metadata": {},
   "outputs": [],
   "source": [
    "cities_list = zillow_df['RegionName'].unique()"
   ]
  },
  {
   "cell_type": "code",
   "execution_count": 7,
   "id": "985ec1fc-fb8e-4f02-9249-5c95a24f7d01",
   "metadata": {},
   "outputs": [],
   "source": [
    "# Open json file that has API key\n",
    "with open('APIKeys.json') as f:\n",
    "    keys = json.load(f)\n",
    "    omdbapi = keys['OMDBapi']"
   ]
  },
  {
   "cell_type": "code",
   "execution_count": null,
   "id": "7a74442a-7a72-4a6a-9ef7-ebad3e056dbb",
   "metadata": {},
   "outputs": [],
   "source": [
    "# Create list to store city data\n",
    "all_city_data2 = []\n",
    "\n",
    "# Loop through cities_list\n",
    "for city in cities_list:\n",
    "    # Assign website to variable, limit search to US cities\n",
    "    api_url = f'https://api.api-ninjas.com/v1/city?name={city}&country=us'\n",
    "    \n",
    "    # Make API request\n",
    "    response = requests.get(api_url, headers={'X-Api-Key': omdbapi})\n",
    "    \n",
    "    if response.status_code == requests.codes.ok:\n",
    "        # Convert to JSON object and append to list\n",
    "        city_data = response.json()\n",
    "        all_city_data2.append(city_data)\n",
    "    else:\n",
    "        print(f\"Error with city {city}: {response.status_code}, {response.text}\")"
   ]
  },
  {
   "cell_type": "code",
   "execution_count": null,
   "id": "824f0eb7-5d8f-47be-99e0-c5352e6c288b",
   "metadata": {},
   "outputs": [],
   "source": []
  },
  {
   "cell_type": "code",
   "execution_count": null,
   "id": "7c51e9ef-0685-481b-b996-8eae94ea080c",
   "metadata": {},
   "outputs": [],
   "source": [
    "# Merge all data within one JSON file\n",
    "with open('all_city_data.json', 'w') as outfile:\n",
    "    json.dump(all_city_data, outfile, indent=4)"
   ]
  },
  {
   "cell_type": "code",
   "execution_count": 3,
   "id": "b0a052cc-594c-440b-84ec-afb59e0d2da3",
   "metadata": {},
   "outputs": [],
   "source": [
    "# Open json file\n",
    "with open('all_city_data.json', 'r') as file:\n",
    "    city_data = json.load(file)"
   ]
  },
  {
   "cell_type": "code",
   "execution_count": 5,
   "id": "84322925-e8a7-43a9-8f11-ced0ee731e55",
   "metadata": {},
   "outputs": [
    {
     "name": "stdout",
     "output_type": "stream",
     "text": [
      "[[{'name': 'New York', 'latitude': 40.6943, 'longitude': -73.9249, 'country': 'US', 'population': 18713220, 'region': 'New York', 'is_capital': False}], [{'name': 'Los Angeles', 'latitude': 34.1139, 'longitude': -118.407, 'country': 'US', 'population': 12750807, 'region': 'California', 'is_capital': False}]]\n"
     ]
    }
   ],
   "source": [
    "print(city_data[:2])"
   ]
  },
  {
   "cell_type": "code",
   "execution_count": 9,
   "id": "801048bc-0535-4a06-8718-1b0de4c50e55",
   "metadata": {},
   "outputs": [
    {
     "name": "stdout",
     "output_type": "stream",
     "text": [
      "Number of cities: 100\n"
     ]
    }
   ],
   "source": [
    "num_cities = len(city_data)\n",
    "print(f\"Number of cities: {num_cities}\")"
   ]
  },
  {
   "cell_type": "markdown",
   "id": "5cb08b67-092b-41bd-befc-4d476b7d392c",
   "metadata": {},
   "source": [
    "### Transformation 1"
   ]
  },
  {
   "cell_type": "code",
   "execution_count": 11,
   "id": "e6a7491a-da52-4b10-bba2-b62457a6e108",
   "metadata": {},
   "outputs": [],
   "source": [
    "# Convert the list of dictionaries into a DataFrame\n",
    "cities_df = pd.DataFrame(city_data)\n",
    "\n",
    "# Divide dictionary into different columns\n",
    "cities_df = cities_df[0].apply(pd.Series)"
   ]
  },
  {
   "cell_type": "markdown",
   "id": "287b0a5e-da62-4614-a077-600db5283f9a",
   "metadata": {},
   "source": [
    "### Transformation 2"
   ]
  },
  {
   "cell_type": "code",
   "execution_count": 13,
   "id": "ac7b478d-e6d6-4863-bfe5-793f3eb6f9d6",
   "metadata": {},
   "outputs": [],
   "source": [
    "# Drop unnecessary columns\n",
    "cities_df = cities_df.drop('country', axis=1)"
   ]
  },
  {
   "cell_type": "markdown",
   "id": "d07ac6b0-4106-47be-a4b1-7792695948f8",
   "metadata": {},
   "source": [
    "### Transformation 3"
   ]
  },
  {
   "cell_type": "code",
   "execution_count": 15,
   "id": "1595adeb-78f4-47bb-8c27-c8f06ff7bc92",
   "metadata": {},
   "outputs": [],
   "source": [
    "# Change column names\n",
    "cities_df.columns = ['RegionName2', 'Lat','Lon','Population','State','IsCapital?']"
   ]
  },
  {
   "cell_type": "markdown",
   "id": "92d30e1a-0e58-4750-a1f9-f453f37b5559",
   "metadata": {},
   "source": [
    "### Transformation 4"
   ]
  },
  {
   "cell_type": "code",
   "execution_count": 17,
   "id": "556e1c77-8f4a-4e9a-9334-94f77af36296",
   "metadata": {},
   "outputs": [
    {
     "data": {
      "text/plain": [
       "0     -73.92\n",
       "1    -118.41\n",
       "2     -95.39\n",
       "3     -87.69\n",
       "4     -98.53\n",
       "       ...  \n",
       "95   -117.02\n",
       "96   -116.23\n",
       "97    -77.48\n",
       "98   -111.75\n",
       "99    -80.26\n",
       "Name: Lon, Length: 100, dtype: float64"
      ]
     },
     "execution_count": 17,
     "metadata": {},
     "output_type": "execute_result"
    }
   ],
   "source": [
    "# Round 'Lat' and 'Lon\" columns\n",
    "cities_df['Lat'].round(2)\n",
    "cities_df['Lon'].round(2)"
   ]
  },
  {
   "cell_type": "markdown",
   "id": "176abfdc-3418-4442-ae9f-2f6401475184",
   "metadata": {},
   "source": [
    "### Transformation 5"
   ]
  },
  {
   "cell_type": "code",
   "execution_count": 19,
   "id": "d028a8a3-8058-4acb-b2c1-10ca81327c3e",
   "metadata": {},
   "outputs": [],
   "source": [
    "# Convert NaN and non numeric values into 0\n",
    "cities_df['Population'] = pd.to_numeric(cities_df['Population'], errors='coerce')\n",
    "cities_df['Population'].fillna(0, inplace=True)\n",
    "\n",
    "# Convert population column into integers\n",
    "cities_df['Population'] = cities_df['Population'].astype(int)"
   ]
  },
  {
   "cell_type": "markdown",
   "id": "b02358d6-f157-4ea1-9c4b-7667257a9758",
   "metadata": {},
   "source": [
    "### Show Outcome"
   ]
  },
  {
   "cell_type": "code",
   "execution_count": 21,
   "id": "6b3dd754-25ec-42a2-b3db-46cc49676490",
   "metadata": {},
   "outputs": [
    {
     "data": {
      "text/html": [
       "<div>\n",
       "<style scoped>\n",
       "    .dataframe tbody tr th:only-of-type {\n",
       "        vertical-align: middle;\n",
       "    }\n",
       "\n",
       "    .dataframe tbody tr th {\n",
       "        vertical-align: top;\n",
       "    }\n",
       "\n",
       "    .dataframe thead th {\n",
       "        text-align: right;\n",
       "    }\n",
       "</style>\n",
       "<table border=\"1\" class=\"dataframe\">\n",
       "  <thead>\n",
       "    <tr style=\"text-align: right;\">\n",
       "      <th></th>\n",
       "      <th>RegionName2</th>\n",
       "      <th>Lat</th>\n",
       "      <th>Lon</th>\n",
       "      <th>Population</th>\n",
       "      <th>State</th>\n",
       "      <th>IsCapital?</th>\n",
       "    </tr>\n",
       "  </thead>\n",
       "  <tbody>\n",
       "    <tr>\n",
       "      <th>0</th>\n",
       "      <td>New York</td>\n",
       "      <td>40.6943</td>\n",
       "      <td>-73.9249</td>\n",
       "      <td>18713220</td>\n",
       "      <td>New York</td>\n",
       "      <td>False</td>\n",
       "    </tr>\n",
       "    <tr>\n",
       "      <th>1</th>\n",
       "      <td>Los Angeles</td>\n",
       "      <td>34.1139</td>\n",
       "      <td>-118.4070</td>\n",
       "      <td>12750807</td>\n",
       "      <td>California</td>\n",
       "      <td>False</td>\n",
       "    </tr>\n",
       "    <tr>\n",
       "      <th>2</th>\n",
       "      <td>Houston</td>\n",
       "      <td>29.7863</td>\n",
       "      <td>-95.3889</td>\n",
       "      <td>5464251</td>\n",
       "      <td>Texas</td>\n",
       "      <td>False</td>\n",
       "    </tr>\n",
       "    <tr>\n",
       "      <th>3</th>\n",
       "      <td>Chicago</td>\n",
       "      <td>41.8373</td>\n",
       "      <td>-87.6862</td>\n",
       "      <td>8604203</td>\n",
       "      <td>Illinois</td>\n",
       "      <td>False</td>\n",
       "    </tr>\n",
       "    <tr>\n",
       "      <th>4</th>\n",
       "      <td>San Antonio</td>\n",
       "      <td>29.4658</td>\n",
       "      <td>-98.5253</td>\n",
       "      <td>2049293</td>\n",
       "      <td>Texas</td>\n",
       "      <td>False</td>\n",
       "    </tr>\n",
       "    <tr>\n",
       "      <th>...</th>\n",
       "      <td>...</td>\n",
       "      <td>...</td>\n",
       "      <td>...</td>\n",
       "      <td>...</td>\n",
       "      <td>...</td>\n",
       "      <td>...</td>\n",
       "    </tr>\n",
       "    <tr>\n",
       "      <th>95</th>\n",
       "      <td>Chula Vista</td>\n",
       "      <td>32.6281</td>\n",
       "      <td>-117.0150</td>\n",
       "      <td>274492</td>\n",
       "      <td>California</td>\n",
       "      <td>False</td>\n",
       "    </tr>\n",
       "    <tr>\n",
       "      <th>96</th>\n",
       "      <td>Boise</td>\n",
       "      <td>43.6007</td>\n",
       "      <td>-116.2310</td>\n",
       "      <td>389280</td>\n",
       "      <td>Idaho</td>\n",
       "      <td>False</td>\n",
       "    </tr>\n",
       "    <tr>\n",
       "      <th>97</th>\n",
       "      <td>Richmond</td>\n",
       "      <td>37.5295</td>\n",
       "      <td>-77.4756</td>\n",
       "      <td>1075798</td>\n",
       "      <td>Virginia</td>\n",
       "      <td>False</td>\n",
       "    </tr>\n",
       "    <tr>\n",
       "      <th>98</th>\n",
       "      <td>Gilbert</td>\n",
       "      <td>33.3101</td>\n",
       "      <td>-111.7460</td>\n",
       "      <td>254114</td>\n",
       "      <td>Arizona</td>\n",
       "      <td>False</td>\n",
       "    </tr>\n",
       "    <tr>\n",
       "      <th>99</th>\n",
       "      <td>Winston-Salem</td>\n",
       "      <td>36.1029</td>\n",
       "      <td>-80.2611</td>\n",
       "      <td>422269</td>\n",
       "      <td>North Carolina</td>\n",
       "      <td>False</td>\n",
       "    </tr>\n",
       "  </tbody>\n",
       "</table>\n",
       "<p>100 rows × 6 columns</p>\n",
       "</div>"
      ],
      "text/plain": [
       "      RegionName2      Lat       Lon  Population           State IsCapital?\n",
       "0        New York  40.6943  -73.9249    18713220        New York      False\n",
       "1     Los Angeles  34.1139 -118.4070    12750807      California      False\n",
       "2         Houston  29.7863  -95.3889     5464251           Texas      False\n",
       "3         Chicago  41.8373  -87.6862     8604203        Illinois      False\n",
       "4     San Antonio  29.4658  -98.5253     2049293           Texas      False\n",
       "..            ...      ...       ...         ...             ...        ...\n",
       "95    Chula Vista  32.6281 -117.0150      274492      California      False\n",
       "96          Boise  43.6007 -116.2310      389280           Idaho      False\n",
       "97       Richmond  37.5295  -77.4756     1075798        Virginia      False\n",
       "98        Gilbert  33.3101 -111.7460      254114         Arizona      False\n",
       "99  Winston-Salem  36.1029  -80.2611      422269  North Carolina      False\n",
       "\n",
       "[100 rows x 6 columns]"
      ]
     },
     "execution_count": 21,
     "metadata": {},
     "output_type": "execute_result"
    }
   ],
   "source": [
    "cities_df"
   ]
  },
  {
   "cell_type": "code",
   "execution_count": 23,
   "id": "4f753952-6fb2-4ce7-b3a7-cd2f8419fcc2",
   "metadata": {},
   "outputs": [],
   "source": [
    "cities_df.to_csv('FINAL_CitiesInfoAPI.csv', index=False)"
   ]
  },
  {
   "cell_type": "markdown",
   "id": "23cfbe32-91c4-4432-b8ed-cde77611f97f",
   "metadata": {},
   "source": [
    "### Conclusion"
   ]
  },
  {
   "cell_type": "markdown",
   "id": "05867be3-de96-4552-86f5-eaa87618851c",
   "metadata": {},
   "source": [
    "Non ethical concerns are noted in this exercise as all the data was obtained legally, it is being used for academical purposes, and it is not being used for personal gain. The data was not altered in any form and it is not expected to affect the integrity of the final project. The data source is believed to be updated and reliable. "
   ]
  }
 ],
 "metadata": {
  "kernelspec": {
   "display_name": "Python 3 (ipykernel)",
   "language": "python",
   "name": "python3"
  },
  "language_info": {
   "codemirror_mode": {
    "name": "ipython",
    "version": 3
   },
   "file_extension": ".py",
   "mimetype": "text/x-python",
   "name": "python",
   "nbconvert_exporter": "python",
   "pygments_lexer": "ipython3",
   "version": "3.11.7"
  }
 },
 "nbformat": 4,
 "nbformat_minor": 5
}
